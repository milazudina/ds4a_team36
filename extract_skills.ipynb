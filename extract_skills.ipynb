{
  "nbformat": 4,
  "nbformat_minor": 0,
  "metadata": {
    "colab": {
      "name": "extract_skills.ipynb",
      "provenance": [],
      "collapsed_sections": [],
      "authorship_tag": "ABX9TyMcHfOLUM0sg6tToeassHBt",
      "include_colab_link": true
    },
    "kernelspec": {
      "name": "python3",
      "display_name": "Python 3"
    },
    "language_info": {
      "name": "python"
    }
  },
  "cells": [
    {
      "cell_type": "markdown",
      "metadata": {
        "id": "view-in-github",
        "colab_type": "text"
      },
      "source": [
        "<a href=\"https://colab.research.google.com/github/milazudina/ds4a_team36/blob/main/extract_skills.ipynb\" target=\"_parent\"><img src=\"https://colab.research.google.com/assets/colab-badge.svg\" alt=\"Open In Colab\"/></a>"
      ]
    },
    {
      "cell_type": "code",
      "metadata": {
        "id": "poNyz_GcO1Ct",
        "colab": {
          "base_uri": "https://localhost:8080/"
        },
        "outputId": "63ceea70-c8bf-45a5-9eb7-43ac0e1cb801"
      },
      "source": [
        "import pandas as pd\n",
        "import spacy\n",
        "import random\n",
        "import numpy as np\n",
        "import re\n",
        "import nltk\n",
        "from nltk.corpus import stopwords\n",
        "nltk.download('stopwords')\n",
        "\n",
        "nlp = spacy.load(\"en_core_web_sm\")\n",
        "STOPWORDS = set(stopwords.words('english'))"
      ],
      "execution_count": 1,
      "outputs": [
        {
          "output_type": "stream",
          "name": "stdout",
          "text": [
            "[nltk_data] Downloading package stopwords to /root/nltk_data...\n",
            "[nltk_data]   Unzipping corpora/stopwords.zip.\n"
          ]
        }
      ]
    },
    {
      "cell_type": "markdown",
      "metadata": {
        "id": "7K2uWAGTp5yJ"
      },
      "source": [
        "# Preprocess Job Descriptions"
      ]
    },
    {
      "cell_type": "code",
      "metadata": {
        "id": "xuHhkg3qOQSX"
      },
      "source": [
        "# read in all the JPs that will need to have skills extracted\n",
        "df_web = pd.read_csv('consolidated_df_webscrapping.csv')\n",
        "df_web[\"Dataset\"] = \"web_scraped\"\n",
        "df_kaggle = pd.read_csv('consolidated_df_kaggle.csv')\n",
        "df_kaggle[\"Dataset\"] = \"kaggle\"\n",
        "\n",
        "print(df_kaggle.columns)\n",
        "print(df_web.columns)\n",
        "\n",
        "# 302 jobs do not have a description that we will use to infer the job type, hence let's remove these from the dataframe\n",
        "df_kaggle = df_kaggle[df_kaggle.Description.notnull()]\n",
        "df_kaggle.reset_index(drop=True, inplace=True)\n",
        "df_kaggle.shape"
      ],
      "execution_count": null,
      "outputs": []
    },
    {
      "cell_type": "code",
      "metadata": {
        "id": "wUpPJH2EunG2"
      },
      "source": [
        "df_kaggle = df_kaggle.rename({'Job_title': 'Job_Title', \n",
        "                      'No_of_Stars': 'Company_Rating', \n",
        "                      'No_of_Reviews': 'Number_of_Reviews_of_the_Company',\n",
        "                      'Company_Employees': 'Company_Size',\n",
        "                      'Adjusted_Industry': 'Industry',\n",
        "                      'Link': 'Job_URL',\n",
        "                      'Queried_Salary': 'Salary'}, axis='columns')\n",
        "\n",
        "df_kaggle[\"Region\"] = \"USA\"\n",
        "df_kaggle = df_kaggle.drop(columns=['Date_Since_Posted', 'Company_Industry', 'Skill', 'No_of_Skills'])\n",
        "df_web = df_web.drop(columns=['Company_Founded_Year', 'Company_URL'])\n",
        "\n",
        "df = pd.concat([df_web, df_kaggle], axis = 0, ignore_index=True)"
      ],
      "execution_count": null,
      "outputs": []
    },
    {
      "cell_type": "code",
      "metadata": {
        "colab": {
          "base_uri": "https://localhost:8080/"
        },
        "id": "tlxHdPKlsm4r",
        "outputId": "0ea7ee1f-4888-4840-96e6-32ad177d4d6d"
      },
      "source": [
        "#df.Dataset[df.Dataset == 'web_scraped_uk'].shape[0]\n",
        "df.Dataset.value_counts()"
      ],
      "execution_count": null,
      "outputs": [
        {
          "output_type": "execute_result",
          "data": {
            "text/plain": [
              "web_scraped    7306\n",
              "kaggle         5413\n",
              "Name: Dataset, dtype: int64"
            ]
          },
          "metadata": {},
          "execution_count": 6
        }
      ]
    },
    {
      "cell_type": "code",
      "metadata": {
        "id": "m_x1edy7Tcl4"
      },
      "source": [
        "# loop through all the job postings to extract all the nouns - for every noun put a number corresponding to where it was extracted from\n",
        "# takes a couple of minutes to run\n",
        "\n",
        "all_nouns = pd.DataFrame(columns=['Number', 'Region', 'Job_Title', 'Noun'])\n",
        "\n",
        "for i in range(0, df.shape[0]):\n",
        "\n",
        "  job_description = df['Description'][i].lower().replace(\"\\n\", \"\") # I determined experimentally that replacing 'next line' with nothing (rather than space) works best\n",
        "\n",
        "  ## Clean the text\n",
        "  job_description = job_description.replace(\"</b>\", \"\").replace(\"</p>\", \"\").replace(\"<b>\", \"\").replace(\"<p>\", \"\").replace(\"</li>\", \"\").replace(\"</ul>\", \"\").replace(\"<li>\", \"\").replace(\"<ul>\", \"\").replace(\"<i>\", \"\").replace(\"</i>\", \"\").replace(\"\\r\", \"\").replace(\"<div>\", \"\").replace(\"h2\", \"\").replace(\"h3\",\"\").replace(\"h1\",\"\").replace(\"</h1>\", \"\").replace(\"</div>\", \"\").replace(\"/h2\", \"\").replace(\"/h3\",\"\")\n",
        "  job_description = re.sub(\"[0-9]\", \"\", job_description)\n",
        "  job_description = job_description.replace(\" the \", \" \").replace(\")\", \"\").replace(\"(\", \"\").replace(\"e.g.\", \"\").replace(\"£\", \"\").replace(\"$\", \"\").replace(\"%\", \"\").replace(\"e g\", \"\").replace(\".\", \" \").replace(\",\", \" \").replace(\":\", \"\").replace(\";\", \"\").replace(\"?\", \"\").replace(\"*\", \"\").replace(\" eg \", \"\").replace(\">\", \"\").replace(\"<\", \"\").replace(\"-\", \" \").replace(\"/\", \" or \").replace(\" a \", \" \").replace(\" an \", \" \")\n",
        "  \n",
        "  text = nlp(job_description)  \n",
        "\n",
        "  text_nouns = [chunk.text for chunk in text.noun_chunks] \n",
        "  text_nouns_clean = np.empty([len(text_nouns)], dtype='U256')\n",
        "\n",
        "  for j in range(0,len(text_nouns)):\n",
        "    # remove the stop words (It would be faster to remove it from the text directly, but I don't know if it will affect how it parses the text into noun phrases) \n",
        "    temp = [w for w in text_nouns[j].split(\" \") if not w in STOPWORDS]\n",
        "    temp = \" \".join(temp)\n",
        "    text_nouns_clean[j] = temp\n",
        "\n",
        "  #print(text_nouns_clean)\n",
        "  text_nouns_clean = text_nouns_clean[text_nouns_clean != \"\"]\n",
        "  nouns = np.unique(text_nouns_clean)\n",
        "  nouns = pd.DataFrame({'Noun':nouns})\n",
        "  number = [i] * len(text_nouns)\n",
        "  number = pd.DataFrame({'Number':number})\n",
        "  region = [df['Region'][i]] * len(text_nouns)\n",
        "  region = pd.DataFrame({'Region':region})\n",
        "  job_title = [df['Job_Title'][i]] * len(text_nouns)\n",
        "  job_title = pd.DataFrame({'Job_Title':job_title})\n",
        "\n",
        "  temp = pd.concat([number, region, job_title, nouns], axis=1)\n",
        "\n",
        "  all_nouns = pd.concat([all_nouns, temp], axis = 0)\n"
      ],
      "execution_count": null,
      "outputs": []
    },
    {
      "cell_type": "code",
      "metadata": {
        "id": "rpkh7v3FDvLf"
      },
      "source": [
        "#all_nouns = pd.read_csv('all_nouns_2021-10-19.csv')\n",
        "all_nouns.head(10)\n",
        "all_nouns.to_csv(\"all_nouns_2021-10-19.csv\")"
      ],
      "execution_count": null,
      "outputs": []
    },
    {
      "cell_type": "code",
      "metadata": {
        "id": "W1VJs2vtskWl"
      },
      "source": [
        "#keep only noun phrases with a min occurrence\n",
        "#min_occurance = 2\n",
        "#tokens = [k for k,c in vocab.items() if c >= min_occurane]\n",
        "#print(len(tokens))\n",
        "\n",
        "all_nouns = pd.read_csv(\"all_nouns_\")"
      ],
      "execution_count": null,
      "outputs": []
    },
    {
      "cell_type": "code",
      "metadata": {
        "id": "JhDe1R9fuOdB"
      },
      "source": [
        "word_occurance = all_nouns.Noun.value_counts()\n",
        "print(word_occurance[0:10])\n",
        "print(word_occurance[len(word_occurance)-10:len(word_occurance)])\n",
        "sum(word_occurance < 2)\n",
        "word_occurance[word_occurance > 2].to_csv(\"word_occurance_above2_2021-10-19.csv\")\n",
        "word_occurance_over2 = word_occurance[word_occurance > 2]"
      ],
      "execution_count": null,
      "outputs": []
    },
    {
      "cell_type": "code",
      "metadata": {
        "id": "RmrhmnQBx9QA"
      },
      "source": [
        "word_occurance_over2 = pd.DataFrame(word_occurance_over2).rename_axis(\"Nouns\").reset_index()\n",
        "word_occurance_over2 = word_occurance_over2.rename({\"Noun\": \"Count\"}, axis = \"columns\")"
      ],
      "execution_count": null,
      "outputs": []
    },
    {
      "cell_type": "code",
      "metadata": {
        "id": "lrQwPJrw2i1A"
      },
      "source": [
        "all_nouns_unique = all_nouns.drop_duplicates(subset=\"Noun\")\n",
        "print(all_nouns_unique.shape)\n",
        "patterns_to_exclude = ['@','www'] \n",
        "pattern = '|'.join(patterns_to_exclude)\n",
        "all_nouns_unique = all_nouns_unique[~all_nouns_unique[\"Noun\"].str.contains(pattern, na=False)]\n",
        "all_nouns_unique = all_nouns_unique[all_nouns_unique[\"Noun\"].isin(word_occurance_over2[\"Nouns\"]) == True]\n",
        "all_nouns_unique = all_nouns_unique.rename({\"Noun\": \"Nouns\"}, axis = \"columns\")\n",
        "all_nouns_unique = all_nouns_unique.merge(word_occurance_over2, on='Nouns')\n",
        "print(all_nouns_unique.shape)\n",
        "print(all_nouns_unique[0:10])\n",
        "all_nouns_unique.to_csv(\"all_nouns_unique_2021-10-19.csv\")"
      ],
      "execution_count": null,
      "outputs": []
    },
    {
      "cell_type": "code",
      "metadata": {
        "id": "pktW8sMe13Cq"
      },
      "source": [
        "skill_list = pd.read_csv(\"df_Elroy_skill_count.csv\", index_col = None, header = 0)\n",
        "type(skill_list[\"Skill\"])\n",
        "#all_kaggle_skills = df_kaggle_skills['Skill'].tolist()\n",
        "skill_list[\"skill_lowerkey\"] = [x.lower() for x in skill_list[\"Skill\"]]\n",
        "skill_list[0:10]"
      ],
      "execution_count": null,
      "outputs": []
    },
    {
      "cell_type": "code",
      "metadata": {
        "id": "WTsKrAUF3Leg"
      },
      "source": [
        "all_nouns_unique.head(10)\n",
        "all_nouns_unique[\"nouns_lowercase\"] = [x.replace(' ', '') for x in all_nouns_unique[\"Nouns\"]]\n",
        "all_nouns_unique[0:10]"
      ],
      "execution_count": null,
      "outputs": []
    },
    {
      "cell_type": "code",
      "metadata": {
        "id": "37Q8j78J3tTn"
      },
      "source": [
        "all_nouns_unique[\"Skill\"] = all_nouns_unique['nouns_lowercase'].isin(skill_list[\"skill_lowerkey\"].tolist())\n",
        "all_nouns_unique.loc[all_nouns_unique[\"Skill\"] == True, \"Skill\"] = 1\n",
        "all_nouns_unique.loc[all_nouns_unique[\"Skill\"] == False, \"Skill\"] = 0\n",
        "all_nouns_unique.head(10)\n",
        "all_nouns_unique.to_csv(\"all_nouns_unique_2021-10-19_labeled_with_kaggle_skills.csv\")"
      ],
      "execution_count": null,
      "outputs": []
    },
    {
      "cell_type": "markdown",
      "metadata": {
        "id": "xO23hT7zp-OG"
      },
      "source": [
        "# LSTM + Embedding\n"
      ]
    },
    {
      "cell_type": "code",
      "metadata": {
        "id": "J7Wz4saPqdDd"
      },
      "source": [
        "from keras.models import Sequential\n",
        "from keras.layers import LSTM, Dense, Embedding, SpatialDropout1D, Flatten\n",
        "from keras.layers.convolutional import Conv1D\n",
        "from keras.layers.convolutional import MaxPooling1D\n",
        "\n",
        "from tensorflow.keras.preprocessing.text import Tokenizer\n",
        "from tensorflow.keras.preprocessing.sequence import pad_sequences\n",
        "from keras.preprocessing.text import one_hot\n",
        "import tensorflow as tf\n",
        "from tensorflow import keras\n",
        "\n",
        "import pandas as pd\n",
        "import seaborn as sns\n",
        "import numpy as np\n",
        "import re"
      ],
      "execution_count": 2,
      "outputs": []
    },
    {
      "cell_type": "code",
      "metadata": {
        "id": "jpHCyW92qtM-"
      },
      "source": [
        "# one of the files has a slightly different format, let's make it same as others\n",
        "#pt3 = pt3.rename({'label': 'Label', 'confidence': 'Confidence'}, axis='columns')\n",
        "#pt3 = pt3.iloc[:,0:6]\n",
        "#df = pd.concat([pt1, pt2, pt3, pt4], axis = 0, ignore_index=True)\n",
        "\n",
        "# just a general check\n",
        "#sns.countplot(x='Label',data=df)\n",
        "\n",
        "all_nouns_labeled = pd.read_csv(\"all_nouns_unique_2021-10-19_labeled.csv\")"
      ],
      "execution_count": 3,
      "outputs": []
    },
    {
      "cell_type": "code",
      "metadata": {
        "id": "TRyoss0i_qbq",
        "colab": {
          "base_uri": "https://localhost:8080/"
        },
        "outputId": "cce4a677-6174-401d-d332-178e05895b7c"
      },
      "source": [
        "# split into input (X) and output (y) - this will be later split into the testing and training set\n",
        "all_nouns = np.asarray(all_nouns_labeled.loc[:,\"Nouns\"])\n",
        "y = all_nouns_labeled.loc[0:1600, \"Skill\"] # labels\n",
        "\n",
        "# to start with, I will only use 1s and 0s\n",
        "y = y.replace({2:0, 3:0})\n",
        "print(y.value_counts())\n",
        "y = y.tolist()\n",
        "\n",
        "# prepare tokenizer\n",
        "t = Tokenizer()\n",
        "t.fit_on_texts(all_nouns)\n",
        "vocab_size = len(t.word_index)+1\n",
        "print(vocab_size)\n",
        "\n",
        "# integer encode the documents\n",
        "encoded_all_nouns = t.texts_to_sequences(all_nouns)\n",
        "print(len(encoded_all_nouns))\n",
        "\n",
        "list_len = [len(i) for i in encoded_all_nouns]\n",
        "print(max(list_len))\n",
        "#print(np.argmax(np.array(list_len)))\n",
        "\n",
        "# pad documents to a max length\n",
        "max_length = max(list_len)\n",
        "padded_all_nouns = pad_sequences(encoded_all_nouns, maxlen=max_length, padding = 'post')\n"
      ],
      "execution_count": 4,
      "outputs": [
        {
          "output_type": "stream",
          "name": "stdout",
          "text": [
            "0    1486\n",
            "1     115\n",
            "Name: Skill, dtype: int64\n",
            "13890\n",
            "53653\n",
            "20\n"
          ]
        }
      ]
    },
    {
      "cell_type": "code",
      "metadata": {
        "id": "oDsh394LlG_M"
      },
      "source": [
        "def make_dummy_var(y):\n",
        "  temp = np.zeros([len(y), 2])\n",
        "  for i in range(0,len(y)):\n",
        "    if y[i] == 0:\n",
        "      temp[i,0] = 1\n",
        "      temp[i,1] = 0\n",
        "    elif y[i] == 1:\n",
        "      temp[i,0] = 0\n",
        "      temp[i,1] = 1\n",
        "  return temp\n",
        "\n",
        "y_onehot = make_dummy_var(y)"
      ],
      "execution_count": 28,
      "outputs": []
    },
    {
      "cell_type": "code",
      "metadata": {
        "id": "n0LX1tHiUgUd"
      },
      "source": [
        "from sklearn.model_selection import train_test_split\n",
        "\n",
        "X_train, X_test, y_train, y_test = train_test_split(padded_all_nouns[0:len(y_onehot)], y_onehot, test_size=0.33)"
      ],
      "execution_count": 29,
      "outputs": []
    },
    {
      "cell_type": "code",
      "metadata": {
        "colab": {
          "base_uri": "https://localhost:8080/"
        },
        "id": "OnQk5NQFU6LH",
        "outputId": "5327fd2e-3436-445c-e27a-ddef3ff982c7"
      },
      "source": [
        "print(X_train.shape)\n",
        "print(X_test.shape)\n",
        "print(y_train.shape)\n",
        "print(y_test.shape)"
      ],
      "execution_count": 30,
      "outputs": [
        {
          "output_type": "stream",
          "name": "stdout",
          "text": [
            "(1072, 20)\n",
            "(529, 20)\n",
            "(1072, 2)\n",
            "(529, 2)\n"
          ]
        }
      ]
    },
    {
      "cell_type": "code",
      "metadata": {
        "colab": {
          "base_uri": "https://localhost:8080/"
        },
        "id": "Dq6KSkAkj0iX",
        "outputId": "722e2c2c-dabb-4785-ecc9-79ca79d444c2"
      },
      "source": [
        "# class imbalance issue\n",
        "print(1-len(y_train[y_train[:,0] == 1])/(len(y_train[y_train[:,0] == 0])+len(y_train[y_train[:,0] == 1])))\n",
        "print(1-len(y_test[y_test[:,0] == 1])/(len(y_test[y_test[:,0] == 0])+len(y_test[y_test[:,0] == 1])))"
      ],
      "execution_count": 31,
      "outputs": [
        {
          "output_type": "stream",
          "name": "stdout",
          "text": [
            "0.0727611940298507\n",
            "0.06994328922495274\n"
          ]
        }
      ]
    },
    {
      "cell_type": "code",
      "metadata": {
        "id": "Ga_8ciheHMpI",
        "colab": {
          "base_uri": "https://localhost:8080/"
        },
        "outputId": "25fecb56-eee5-43c7-c336-41488abf3bc7"
      },
      "source": [
        "# RUN THIS CELL ONLY IF USING PRETRAINED EMBEDDING (GLOVE)\n",
        "\n",
        "embeddings_index = dict()\n",
        "# can download from https://nlp.stanford.edu/projects/glove/\n",
        "f = open('glove.6B.100d.txt')\n",
        "for line in f:\n",
        "\tvalues = line.split()\n",
        "\tword = values[0]\n",
        "\tcoefs = np.asarray(values[1:], dtype='float32')\n",
        "\tembeddings_index[word] = coefs\n",
        "f.close()\n",
        "print('Loaded %s word vectors.' % len(embeddings_index))\n",
        "\n",
        "# create a weight matrix for words in training docs\n",
        "embedding_matrix = np.zeros((vocab_size, 100))\n",
        "count = 0\n",
        "for word, i in t.word_index.items():\n",
        "\t#print(word)\n",
        "\tembedding_vector = embeddings_index.get(word)\n",
        "\tif embedding_vector is not None:\n",
        "\t\tcount = count + 1\n",
        "\t\tembedding_matrix[i] = embedding_vector\n",
        "print(count)\n",
        "# so about 1,000 words is not found\n",
        "\n",
        "glove_layer = Embedding(vocab_size, 100, weights=[embedding_matrix], input_length=max_length, trainable=False)"
      ],
      "execution_count": 51,
      "outputs": [
        {
          "output_type": "stream",
          "name": "stdout",
          "text": [
            "Loaded 400000 word vectors.\n",
            "10580\n"
          ]
        }
      ]
    },
    {
      "cell_type": "code",
      "metadata": {
        "id": "6cztNVFjA9rB"
      },
      "source": [
        "from keras import backend as K\n",
        "\n",
        "def recall_m(y_true, y_pred):\n",
        "    true_positives = K.sum(K.round(K.clip(y_true * y_pred, 0, 1)))\n",
        "    possible_positives = K.sum(K.round(K.clip(y_true, 0, 1)))\n",
        "    recall = true_positives / (possible_positives + K.epsilon())\n",
        "    return recall\n",
        "\n",
        "def precision_m(y_true, y_pred):\n",
        "    true_positives = K.sum(K.round(K.clip(y_true * y_pred, 0, 1)))\n",
        "    predicted_positives = K.sum(K.round(K.clip(y_pred, 0, 1)))\n",
        "    precision = true_positives / (predicted_positives + K.epsilon())\n",
        "    return precision\n",
        "\n",
        "def f1_m(y_true, y_pred):\n",
        "    precision = precision_m(y_true, y_pred)\n",
        "    recall = recall_m(y_true, y_pred)\n",
        "    return ((2*precision*recall)/(precision+recall+K.epsilon()))\n",
        "\n",
        "def f2_m(y_true, y_pred):\n",
        "    precision = precision_m(y_true, y_pred)\n",
        "    recall = recall_m(y_true, y_pred)\n",
        "    return (((1 + 4) * precision*recall)/(4 * precision+recall+K.epsilon())) # 4 = beta ^ 2, beta = 2\n",
        "\n",
        "def f05_m(y_true, y_pred):\n",
        "    precision = precision_m(y_true, y_pred)\n",
        "    recall = recall_m(y_true, y_pred)\n",
        "    return (((1+0.25)*precision*recall)/(0.25 * precision+recall+K.epsilon()))"
      ],
      "execution_count": 36,
      "outputs": []
    },
    {
      "cell_type": "code",
      "metadata": {
        "id": "GAzGAoyurGRF"
      },
      "source": [
        "model = Sequential()\n",
        "model.add(glove_layer)\n",
        "#model.add(Embedding(vocab_size, 100, input_length=max_length))\n",
        "model.add(SpatialDropout1D(0.2))\n",
        "model.add(Conv1D(filters=192, kernel_size=8, activation='relu'))\n",
        "model.add(MaxPooling1D(pool_size=2))\n",
        "model.add(Flatten())\n",
        "model.add(Dense(96, activation='relu'))\n",
        "model.add(Dense(48, activation='relu'))\n",
        "model.add(Dense(2, activation='softmax'))\n",
        "\n",
        "optimizer = keras.optimizers.Adam(learning_rate=0.0001)\n",
        "\n",
        "model.compile(optimizer=optimizer, loss='binary_crossentropy', metrics=['accuracy',f1_m, f2_m, f05_m, precision_m, recall_m])\n",
        "\n",
        "print(model.summary())\n",
        "\n",
        "# add learning rate parameter\n",
        "\n",
        "# fit the model\n",
        "model.fit(X_train, y_train, epochs=100, verbose=1, batch_size=32)\n",
        "\n",
        "# evaluate the model\n",
        "loss, accuracy, f1_score, f2_score, f05_score, precision, recall = model.evaluate(X_train, y_train)\n",
        "print('Loss: %f' % (loss))\n",
        "print('Accuracy: %f' % (accuracy*100))\n",
        "print('F-1: %f' % (f1_score))\n",
        "print('F-2: %f' % (f2_score))\n",
        "print('F-0.5: %f' % (f05_score))\n",
        "print('Precision: %f' % (precision*100))\n",
        "print('Recall: %f' % (recall*100))\n",
        "\n",
        "test_loss, test_accuracy, test_f1_score, test_f2_score, test_f05_score, test_precision, test_recall = model.evaluate(X_test, y_test)\n",
        "print('Test loss: %f' % (test_loss))\n",
        "print('Test accuracy: %f' % (test_accuracy*100))\n",
        "print('Test F1: %f' % (test_f1_score))\n",
        "print('Test F-2: %f' % (test_f2_score))\n",
        "print('Test F-0.5: %f' % (test_f05_score))\n",
        "print('Test precision: %f' % (test_precision*100))\n",
        "print('Test recall: %f' % (test_recall*100))\n",
        "\n",
        "\n",
        "# Accuracy: 99.813432\n",
        "# Test accuracy: 94.328922"
      ],
      "execution_count": null,
      "outputs": []
    },
    {
      "cell_type": "code",
      "metadata": {
        "id": "4goH-rMsIBHf"
      },
      "source": [
        "model_lstm = Sequential()\n",
        "model_lstm.add(glove_layer)\n",
        "#model_lstm.add(Embedding(vocab_size, 100, input_length=max_length))\n",
        "model_lstm.add(SpatialDropout1D(0.2))\n",
        "model_lstm.add(LSTM(256))\n",
        "model_lstm.add(Dense(128, activation='relu'))\n",
        "model_lstm.add(Dense(64, activation='relu'))\n",
        "model_lstm.add(Dense(32, activation='relu'))\n",
        "model_lstm.add(Dense(2, activation='softplus'))\n",
        "\n",
        "optimizer = keras.optimizers.Adam(learning_rate=0.0001)\n",
        "\n",
        "model_lstm.compile(optimizer=optimizer, loss='binary_crossentropy', metrics=['accuracy',f1_m, f2_m, f05_m,precision_m, recall_m])\n",
        "\n",
        "print(model_lstm.summary())\n",
        "\n",
        "# add learning rate parameter\n",
        "\n",
        "# fit the model\n",
        "model_lstm.fit(X_train, y_train, epochs=50, verbose=1, batch_size=32)\n",
        "\n",
        "# evaluate the model\n",
        "loss, accuracy, f1_score, f2_score, f05_score, precision, recall = model_lstm.evaluate(X_train, y_train)\n",
        "print('Loss: %f' % (loss))\n",
        "print('Accuracy: %f' % (accuracy*100))\n",
        "print('F-1: %f' % (f1_score))\n",
        "print('F-2: %f' % (f2_score))\n",
        "print('F-0.5: %f' % (f05_score))\n",
        "print('Precision: %f' % (precision*100))\n",
        "print('Recall: %f' % (recall*100))\n",
        "\n",
        "test_loss, test_accuracy, test_f1_score, test_f2_score, test_f05_score, test_precision, test_recall = model_lstm.evaluate(X_test, y_test)\n",
        "print('Test loss: %f' % (test_loss))\n",
        "print('Test accuracy: %f' % (test_accuracy*100))\n",
        "print('Test F1: %f' % (test_f1_score))\n",
        "print('Test F-2: %f' % (test_f2_score))\n",
        "print('Test F-0.5: %f' % (test_f05_score))\n",
        "print('Test precision: %f' % (test_precision*100))\n",
        "print('Test recall: %f' % (test_recall*100))\n"
      ],
      "execution_count": null,
      "outputs": []
    },
    {
      "cell_type": "code",
      "metadata": {
        "id": "H-GgGzVlVWGo"
      },
      "source": [
        "y[train]"
      ],
      "execution_count": null,
      "outputs": []
    },
    {
      "cell_type": "code",
      "metadata": {
        "colab": {
          "base_uri": "https://localhost:8080/"
        },
        "id": "4QxuBbVzEsCx",
        "outputId": "a8b88d5e-bc65-49f3-81db-94e65619521a"
      },
      "source": [
        "from sklearn.model_selection import StratifiedKFold\n",
        "from sklearn.model_selection import train_test_split\n",
        "\n",
        "# split into input (X) and output (Y) variables\n",
        "X = padded_all_nouns[0:len(y)]\n",
        "\n",
        "#seed = 123\n",
        "# define 10-fold cross validation test harness\n",
        "#kfold = StratifiedKFold(n_splits=5, shuffle=True, random_state=seed)\n",
        "accuracies = []\n",
        "f1s = []\n",
        "precisions = []\n",
        "recalls = []\n",
        "\n",
        "for i in range(0,5):\n",
        "\n",
        "  X_train, X_test, y_train, y_test = train_test_split(X, y_onehot, test_size=0.33)\n",
        "\n",
        "  model = Sequential()\n",
        "  model.add(glove_layer)\n",
        "  #model_lstm.add(Embedding(vocab_size, 100, input_length=max_length))\n",
        "  #model_lstm.add(SpatialDropout1D(0.2))\n",
        "  #model_lstm.add(LSTM(256))\n",
        "  #model_lstm.add(Dense(128, activation='relu'))\n",
        "  #model_lstm.add(Dense(64, activation='relu'))\n",
        "  #model_lstm.add(Dense(32, activation='relu'))\n",
        "  #model_lstm.add(Dense(2, activation='softplus'))\n",
        "\n",
        "  model.add(SpatialDropout1D(0.2))\n",
        "  model.add(Conv1D(filters=192, kernel_size=8, activation='relu'))\n",
        "  model.add(MaxPooling1D(pool_size=2))\n",
        "  model.add(Flatten())\n",
        "  model.add(Dense(96, activation='relu'))\n",
        "  model.add(Dense(48, activation='relu'))\n",
        "  model.add(Dense(2, activation='softmax'))\n",
        "\n",
        "  optimizer = keras.optimizers.Adam(learning_rate=0.0001)\n",
        "\n",
        "  model.compile(optimizer=optimizer, loss='binary_crossentropy', metrics=['accuracy',f1_m, precision_m, recall_m])\n",
        "\n",
        "  print(model.summary())\n",
        "\n",
        "  # Fit the model\n",
        "  model.fit(X_train, y_train, epochs=100, batch_size=32, verbose=0)\n",
        "  # evaluate the model\n",
        "  loss, accuracy, f1_score, precision, recall = model.evaluate(X_test, y_test, verbose=0)\n",
        "  print(\"%s: %.2f%%\" % (model.metrics_names[1], accuracy*100))\n",
        "  print(\"%s: %.2f%%\" % (model.metrics_names[2], f1_score))\n",
        "  print(\"%s: %.2f%%\" % (model.metrics_names[3], precision*100))\n",
        "  print(\"%s: %.2f%%\" % (model.metrics_names[4], recall*100))\n",
        " \n",
        "  accuracies.append(accuracy * 100)\n",
        "  f1s.append(f1_score)\n",
        "  precisions.append(precision * 100)\n",
        "  recalls.append(recall * 100)\n",
        "\n",
        "  print(\"%.2f%% (+/- %.2f%%)\" % (np.mean(accuracies), np.std(accuracies)))\n",
        "  print(\"%.2f%% (+/- %.2f%%)\" % (np.mean(f1s), np.std(f1s)))\n",
        "  print(\"%.2f%% (+/- %.2f%%)\" % (np.mean(precisions), np.std(precisions)))\n",
        "  print(\"%.2f%% (+/- %.2f%%)\" % (np.mean(recalls), np.std(recalls)))\n",
        "\t"
      ],
      "execution_count": 84,
      "outputs": [
        {
          "output_type": "stream",
          "name": "stdout",
          "text": [
            "Model: \"sequential_54\"\n",
            "_________________________________________________________________\n",
            "Layer (type)                 Output Shape              Param #   \n",
            "=================================================================\n",
            "embedding_9 (Embedding)      (None, 20, 100)           1389000   \n",
            "_________________________________________________________________\n",
            "spatial_dropout1d_49 (Spatia (None, 20, 100)           0         \n",
            "_________________________________________________________________\n",
            "conv1d_18 (Conv1D)           (None, 13, 192)           153792    \n",
            "_________________________________________________________________\n",
            "max_pooling1d_18 (MaxPooling (None, 6, 192)            0         \n",
            "_________________________________________________________________\n",
            "flatten_18 (Flatten)         (None, 1152)              0         \n",
            "_________________________________________________________________\n",
            "dense_194 (Dense)            (None, 96)                110688    \n",
            "_________________________________________________________________\n",
            "dense_195 (Dense)            (None, 48)                4656      \n",
            "_________________________________________________________________\n",
            "dense_196 (Dense)            (None, 2)                 98        \n",
            "=================================================================\n",
            "Total params: 1,658,234\n",
            "Trainable params: 269,234\n",
            "Non-trainable params: 1,389,000\n",
            "_________________________________________________________________\n",
            "None\n",
            "accuracy: 93.57%\n",
            "f1_m: 0.94%\n",
            "precision_m: 93.75%\n",
            "recall_m: 93.75%\n",
            "93.57% (+/- 0.00%)\n",
            "0.94% (+/- 0.00%)\n",
            "93.75% (+/- 0.00%)\n",
            "93.75% (+/- 0.00%)\n",
            "Model: \"sequential_55\"\n",
            "_________________________________________________________________\n",
            "Layer (type)                 Output Shape              Param #   \n",
            "=================================================================\n",
            "embedding_9 (Embedding)      (None, 20, 100)           1389000   \n",
            "_________________________________________________________________\n",
            "spatial_dropout1d_50 (Spatia (None, 20, 100)           0         \n",
            "_________________________________________________________________\n",
            "conv1d_19 (Conv1D)           (None, 13, 192)           153792    \n",
            "_________________________________________________________________\n",
            "max_pooling1d_19 (MaxPooling (None, 6, 192)            0         \n",
            "_________________________________________________________________\n",
            "flatten_19 (Flatten)         (None, 1152)              0         \n",
            "_________________________________________________________________\n",
            "dense_197 (Dense)            (None, 96)                110688    \n",
            "_________________________________________________________________\n",
            "dense_198 (Dense)            (None, 48)                4656      \n",
            "_________________________________________________________________\n",
            "dense_199 (Dense)            (None, 2)                 98        \n",
            "=================================================================\n",
            "Total params: 1,658,234\n",
            "Trainable params: 269,234\n",
            "Non-trainable params: 1,389,000\n",
            "_________________________________________________________________\n",
            "None\n",
            "accuracy: 91.30%\n",
            "f1_m: 0.91%\n",
            "precision_m: 91.06%\n",
            "recall_m: 91.06%\n",
            "92.44% (+/- 1.13%)\n",
            "0.92% (+/- 0.01%)\n",
            "92.40% (+/- 1.35%)\n",
            "92.40% (+/- 1.35%)\n",
            "Model: \"sequential_56\"\n",
            "_________________________________________________________________\n",
            "Layer (type)                 Output Shape              Param #   \n",
            "=================================================================\n",
            "embedding_9 (Embedding)      (None, 20, 100)           1389000   \n",
            "_________________________________________________________________\n",
            "spatial_dropout1d_51 (Spatia (None, 20, 100)           0         \n",
            "_________________________________________________________________\n",
            "conv1d_20 (Conv1D)           (None, 13, 192)           153792    \n",
            "_________________________________________________________________\n",
            "max_pooling1d_20 (MaxPooling (None, 6, 192)            0         \n",
            "_________________________________________________________________\n",
            "flatten_20 (Flatten)         (None, 1152)              0         \n",
            "_________________________________________________________________\n",
            "dense_200 (Dense)            (None, 96)                110688    \n",
            "_________________________________________________________________\n",
            "dense_201 (Dense)            (None, 48)                4656      \n",
            "_________________________________________________________________\n",
            "dense_202 (Dense)            (None, 2)                 98        \n",
            "=================================================================\n",
            "Total params: 1,658,234\n",
            "Trainable params: 269,234\n",
            "Non-trainable params: 1,389,000\n",
            "_________________________________________________________________\n",
            "None\n",
            "accuracy: 93.19%\n",
            "f1_m: 0.93%\n",
            "precision_m: 93.22%\n",
            "recall_m: 93.22%\n",
            "92.69% (+/- 0.99%)\n",
            "0.93% (+/- 0.01%)\n",
            "92.68% (+/- 1.16%)\n",
            "92.68% (+/- 1.16%)\n",
            "Model: \"sequential_57\"\n",
            "_________________________________________________________________\n",
            "Layer (type)                 Output Shape              Param #   \n",
            "=================================================================\n",
            "embedding_9 (Embedding)      (None, 20, 100)           1389000   \n",
            "_________________________________________________________________\n",
            "spatial_dropout1d_52 (Spatia (None, 20, 100)           0         \n",
            "_________________________________________________________________\n",
            "conv1d_21 (Conv1D)           (None, 13, 192)           153792    \n",
            "_________________________________________________________________\n",
            "max_pooling1d_21 (MaxPooling (None, 6, 192)            0         \n",
            "_________________________________________________________________\n",
            "flatten_21 (Flatten)         (None, 1152)              0         \n",
            "_________________________________________________________________\n",
            "dense_203 (Dense)            (None, 96)                110688    \n",
            "_________________________________________________________________\n",
            "dense_204 (Dense)            (None, 48)                4656      \n",
            "_________________________________________________________________\n",
            "dense_205 (Dense)            (None, 2)                 98        \n",
            "=================================================================\n",
            "Total params: 1,658,234\n",
            "Trainable params: 269,234\n",
            "Non-trainable params: 1,389,000\n",
            "_________________________________________________________________\n",
            "None\n",
            "accuracy: 92.44%\n",
            "f1_m: 0.92%\n",
            "precision_m: 92.48%\n",
            "recall_m: 92.48%\n",
            "92.63% (+/- 0.87%)\n",
            "0.93% (+/- 0.01%)\n",
            "92.63% (+/- 1.01%)\n",
            "92.63% (+/- 1.01%)\n",
            "Model: \"sequential_58\"\n",
            "_________________________________________________________________\n",
            "Layer (type)                 Output Shape              Param #   \n",
            "=================================================================\n",
            "embedding_9 (Embedding)      (None, 20, 100)           1389000   \n",
            "_________________________________________________________________\n",
            "spatial_dropout1d_53 (Spatia (None, 20, 100)           0         \n",
            "_________________________________________________________________\n",
            "conv1d_22 (Conv1D)           (None, 13, 192)           153792    \n",
            "_________________________________________________________________\n",
            "max_pooling1d_22 (MaxPooling (None, 6, 192)            0         \n",
            "_________________________________________________________________\n",
            "flatten_22 (Flatten)         (None, 1152)              0         \n",
            "_________________________________________________________________\n",
            "dense_206 (Dense)            (None, 96)                110688    \n",
            "_________________________________________________________________\n",
            "dense_207 (Dense)            (None, 48)                4656      \n",
            "_________________________________________________________________\n",
            "dense_208 (Dense)            (None, 2)                 98        \n",
            "=================================================================\n",
            "Total params: 1,658,234\n",
            "Trainable params: 269,234\n",
            "Non-trainable params: 1,389,000\n",
            "_________________________________________________________________\n",
            "None\n",
            "accuracy: 92.82%\n",
            "f1_m: 0.93%\n",
            "precision_m: 92.85%\n",
            "recall_m: 92.85%\n",
            "92.67% (+/- 0.78%)\n",
            "0.93% (+/- 0.01%)\n",
            "92.67% (+/- 0.91%)\n",
            "92.67% (+/- 0.91%)\n"
          ]
        }
      ]
    },
    {
      "cell_type": "code",
      "metadata": {
        "id": "x1Hm-BO5npxJ"
      },
      "source": [
        "predicted_y = model.predict(padded_all_nouns)"
      ],
      "execution_count": 85,
      "outputs": []
    },
    {
      "cell_type": "code",
      "metadata": {
        "id": "65Hx4XmioZDZ"
      },
      "source": [
        "# this will show the predicted and manual labels for the training set \n",
        "predicted_class=np.argmax(predicted_y[0:len(y_onehot)],axis=1)\n",
        "\n",
        "test_nouns_with_labels = np.vstack((np.asarray(all_nouns[0:len(y_onehot)]), predicted_class, y_onehot[:,1]))\n",
        "\n",
        "predicted_vs_labeled = pd.DataFrame(data=test_nouns_with_labels.transpose(),\n",
        "                  columns=[\"Noun\", \"Predicted label\", \"Manual label\"])\n",
        "\n"
      ],
      "execution_count": 86,
      "outputs": []
    },
    {
      "cell_type": "code",
      "metadata": {
        "colab": {
          "base_uri": "https://localhost:8080/"
        },
        "id": "0DkEZ4am5fSi",
        "outputId": "02ab4487-5d7a-4348-dbdd-594ad2b1d615"
      },
      "source": [
        "predicted_vs_labeled[\"Predicted label\"].value_counts()"
      ],
      "execution_count": 87,
      "outputs": [
        {
          "output_type": "execute_result",
          "data": {
            "text/plain": [
              "0    1478\n",
              "1     123\n",
              "Name: Predicted label, dtype: int64"
            ]
          },
          "metadata": {},
          "execution_count": 87
        }
      ]
    },
    {
      "cell_type": "code",
      "metadata": {
        "colab": {
          "base_uri": "https://localhost:8080/"
        },
        "id": "4laorhbsjUhj",
        "outputId": "d017e08d-88e7-4031-f122-1f07a63c8773"
      },
      "source": [
        "print(predicted_vs_labeled[(predicted_vs_labeled['Manual label']==1) & (predicted_vs_labeled['Predicted label']==0)])\n",
        "# only 11 extra skills extracted (not manually labeled)\n",
        "\n",
        "print(sum((predicted_vs_labeled['Manual label']==0) & (predicted_vs_labeled['Predicted label']==1)))\n",
        "print(sum((predicted_vs_labeled['Manual label']==1) & (predicted_vs_labeled['Predicted label']==0)))"
      ],
      "execution_count": 88,
      "outputs": [
        {
          "output_type": "stream",
          "name": "stdout",
          "text": [
            "                            Noun Predicted label Manual label\n",
            "10        continuous improvement               0            1\n",
            "124                   postgresql               0            1\n",
            "312   agile development approach               0            1\n",
            "368          mobile applications               0            1\n",
            "609           big data knowledge               0            1\n",
            "865                      alteryx               0            1\n",
            "1050       complex data analysis               0            1\n",
            "1259                        tsql               0            1\n",
            "1275                   ms office               0            1\n",
            "1301         conflict resolution               0            1\n",
            "1415                     workday               0            1\n",
            "1467                     powerbi               0            1\n",
            "1475         support maintenance               0            1\n",
            "1507                  statistics               0            1\n",
            "1592                         sas               0            1\n",
            "1594          statistical models               0            1\n",
            "24\n",
            "16\n"
          ]
        }
      ]
    },
    {
      "cell_type": "code",
      "metadata": {
        "colab": {
          "base_uri": "https://localhost:8080/"
        },
        "id": "SXnh0vU5ntYy",
        "outputId": "740d41fc-a84f-4416-8249-6932da742d51"
      },
      "source": [
        "# this will show the predicted labels for the rest of them\n",
        "predicted_class=np.argmax(predicted_y,axis=1)\n",
        "\n",
        "test_nouns_with_labels = np.vstack((np.asarray(all_nouns_unique[\"Nouns\"]), predicted_class))\n",
        "\n",
        "predicted = pd.DataFrame(data=test_nouns_with_labels.transpose(),\n",
        "                  columns=[\"Nouns\", \"Predicted label\"])\n",
        "\n",
        "predicted[\"Predicted label\"].value_counts()\n",
        "#print(predicted[550:600])\n"
      ],
      "execution_count": null,
      "outputs": [
        {
          "output_type": "execute_result",
          "data": {
            "text/plain": [
              "0    49708\n",
              "1     3945\n",
              "Name: Predicted label, dtype: int64"
            ]
          },
          "metadata": {},
          "execution_count": 121
        }
      ]
    },
    {
      "cell_type": "code",
      "metadata": {
        "colab": {
          "base_uri": "https://localhost:8080/"
        },
        "id": "pncRLJ5mAF0K",
        "outputId": "6bb7e41a-b681-4624-a02d-2f1ca84da9b5"
      },
      "source": [
        "print(predicted[predicted['Predicted label']==1])"
      ],
      "execution_count": null,
      "outputs": [
        {
          "output_type": "stream",
          "name": "stdout",
          "text": [
            "                                                   Nouns Predicted label\n",
            "17                                        data analytics               1\n",
            "18                                       data management               1\n",
            "36                                   information systems               1\n",
            "53                                          presentation               1\n",
            "90                                            management               1\n",
            "...                                                  ...             ...\n",
            "53601                       data engineering teamsmanage               1\n",
            "53615  software engineering related field graduate de...               1\n",
            "53621                               analytics data store               1\n",
            "53626                           data processing patterns               1\n",
            "53649                            hadoop  sparkexperience               1\n",
            "\n",
            "[3945 rows x 2 columns]\n"
          ]
        }
      ]
    },
    {
      "cell_type": "code",
      "metadata": {
        "colab": {
          "base_uri": "https://localhost:8080/"
        },
        "id": "CtbkXgCWwOov",
        "outputId": "00e79fea-b4d9-44c7-8dbe-17c6cc56c9c9"
      },
      "source": [
        "# extract the skills from all of them\n",
        "#predicted_class=np.argmax(predicted_y,axis=1)\n",
        "\n",
        "#test_nouns_with_labels = np.vstack((np.asarray(all_nouns), predicted_class))\n",
        "\n",
        "#predicted = pd.DataFrame(data=test_nouns_with_labels.transpose(), columns=[\"Noun\", \"Predicted label\"])\n",
        "\n",
        "skills = predicted.loc[predicted[\"Predicted label\"] == 1, \"Nouns\"]\n",
        "print(skills)\n",
        "\n",
        "skills = skills.to_list() + all_nouns_labeled.loc[all_nouns_labeled[\"Skill\"] == 1, \"Nouns\"].to_list()\n",
        "##skills = skills.dropna()\n",
        "\n",
        "print(skills)\n",
        "\n",
        "pd.DataFrame(skills).to_csv(\"skills_2021-10-19.csv\")"
      ],
      "execution_count": null,
      "outputs": [
        {
          "output_type": "stream",
          "name": "stdout",
          "text": [
            "17                                          data analytics\n",
            "18                                         data management\n",
            "36                                     information systems\n",
            "53                                            presentation\n",
            "90                                              management\n",
            "                               ...                        \n",
            "53601                         data engineering teamsmanage\n",
            "53615    software engineering related field graduate de...\n",
            "53621                                 analytics data store\n",
            "53626                             data processing patterns\n",
            "53649                              hadoop  sparkexperience\n",
            "Name: Nouns, Length: 3945, dtype: object\n",
            "['data analytics', 'data management', 'information systems', 'presentation', 'management', 'modelling techniques', 'data  analytics', 'enterprise data warehouse', 'postgresql', 'predictive analytics solutions', 'strong data analysis skills', 'strong technical skills', 'advanced excel skills', 'analysis', 'business analytics', 'strong analytical skills', 'excel', 'excellent communication skills', 'sql', 'statistical background', 'computer science', 'design experience', 'oracle', 'vba', 'database management', 'agile development approach', 'automation', 'aws environment', 'c', 'configuration management', 'data warehouse', 'etl tools', 'mobile applications', 'saas', 'scala', 'specification', 'agile methodology', 'business analysis', 'scrum', 'software development', 'strong interpersonal skills', 'scenario development', 'software design', 'solution design', 'sharepoint', 'big data knowledge', 'machine learning', 'presentation skills', 'strong coding skills', 'strong communication', 'strong quantitative analytical skills', 'writing skills', 'software', 'strong communication skills', 'analytics', 'data quality', 'data visualisation', 'digital transformation', 'excellent analytical skills', 'excellent interpersonal communication skills', 'maths', 'microsoft office products', 'strong delivery skills', 'data analysis', 'payroll', 'change management', 'coding skills', 'data analytics experience', 'marketing', 'ms excel', 'ms powerpoint', 'tableau', 'visualization skills', 'data warehouses', 'network', 'analytical ability', 'excellent written communication skills', 'analytical expertise', 'digital health', 'product development', 'data security', 'data solutions', 'excellent communication presentation skills', 'ms office', 'conflict resolution', 'project management', 'system design', 'system maintenance', 'workday', 'automated tools', 'hardware', 'software applications', 'combined data warehouse', 'etl', 'scripting', 'ssis packages', 'ssrs', 'advanced analytics', 'fraud analytics', 'senior management', 'statistics', 'strong interpersonal communication skills', 'sas', 'statistical models', 'statistical tools', 'sap', 'dmp', 'advanced analytics tools', 'strong presentation skills', 'text analysis', 'crm', 'product management experience', 'effective communication', 'excellent data visualisation skills', 'excellent interpersonal skills', 'visio', 'excellent documentation skills', 'scenario analysis', 'spss modeler', 'agile development methodology', 'design  development', 'microsoft sql server', 'microsoft sql server integration services', 'sql scripts', 'tabular models', 'warehouse', 'agile software development teams', 'incident management', 'problem management', 'statistical analysis', 'glm', 'deep technical knowledge', 'effective management', 'infrastructure design', 'outstanding communication skills', 'perl', 'quantitative modelling', 'xml', 'digital marketing', 'data collation', 'data validation', 'google suite', 'modelling', 'powerpoint', 'portfolio analysis', 'sql  r', 'accurate analysis', 'functional environment', 'google analytics', 'strong documentation skills', 'capco', 'excellent communication', 'data structures', 'data warehouse concepts', 'sql server', 'ssis', 'systems development', 'advanced analytics techniques', 'compliance management', 'javascript', 'loading etl', 'postgresql  oracle', 'relational databases', 'visualisation software', 'data analysis techniques', 'excellent presentation communication skills', 'data warehouse development', 'controller', 'data visualisation tools', 'processing', 'visualisation tools', 'analysis tools', 'excel skills', 'strong excel skills', 'trend analysis', 'digital commerce', 'agile environment', 'keras', 'audio', 'data science techniques', 'advanced analytics skills', 'advanced digital expertise', 'automation capabilities', 'data  technology', 'digital services', 'software engineering', 'strong technical expertise', 'data engineers', 'version control', 'computational biology', 'deep learning techniques', 'data analytical skills', 'analytical tools', 'data systems', 'machine learning framework', 'analysis capability', 'data analysis tools', 'dependency management', 'docker', 'machine learning frameworks', 'messaging systems', 'feature engineering', 'model building', 'software tools', 'analytics applications', 'graph analytics', 'computer vision', 'nlp', 'recommender systems', 'telford', 'data manipulation', 'package management', 'statistical methods', 'technical non technical skills', 'commercial analytics', 'excellent written verbal skills', 'user interfaces', 'artificial intelligence  machine learning', 'exceptional communication presentation skills', 'advanced machine learning capabilities', 'c++', 'cgg', 'intuitive interfaces', 'machine learning engineer', 'machine learning techniques', 'technical  commercial personal skills', 'coding background', 'data platform', 'microsoft recruitment', 'predictive analytics', 'analytics function', 'analytics space', 'data science skills', 'survey design', 'data analytics function', 'great communication skills', 'product design', 'python coding skills', 'statistical techniques', 'attribution modeling', 'digital analytics', 'econometrics', 'hadoop', 'marketing analytics', 'matlab', 'modeling methodologies', 'simulation', 'statistics  econometrics', 'technical programming skills', 'hubspot', 'aws tools', 'sql programming', 'programming skills', 'commercial management', 'meta analysis', 'programming', 'r html', 'statistical innovation', 'statistical methodology', 'advanced analytical techniques', 'prediction', 'timeseries analysis', 'lead machine learning engineer', 'cuda', 'software  developer', 'microsoft', 'programming code', 'statistical data science field', 'statistical design', 'statistical modelling', 'statistical problems', 'statisticians', 'strong leadership skills', 'biostatistics', 'python programming', 'workflow', 'heterogeneous data', 'machine learning solutions', 'software engineers', 'method development', 'ms', 'bioinformatics', 'biology  computer science', 'cheminformatics  bioinformatics', 'computer sciences', 'data integration', 'semantic  ontologies', 'setup', 'digital technology', 'climatology', 'computer code', 'meteorology', 'hoc analysis', 'bioinformatics techniques', 'machine learning scientist', 'bespoke bioinformatic tools', 'data modelling', 'flexible multitasking skills', 'strong analytical  statistical skills', 'excellent stakeholder management skills', 'data architecture', 'data curation  cleansing quality control processes', 'data visualisation tools experience', 'semantic  ontologies knowledge', 'statistics data analytics experience', 'dynamic environment', 'product lifecycle', 'product vision', 'workflow models', 'predictive modelling', 'excellent critical thinking skills', 'ml systems', 'r  matlab', 'software developers', 'clear communication', 'edge machine learning', 'analytical technical skills', 'robust modelling', 'c#', 'mongodb', 'mysql', 'programming experience', 'software modules', 'cloud computing', 'good communication skills', 'leveraging machine learning', 'analytics portfolio', 'cloud infrastructure knowledge', 'data applications', 'database design', 'software design principles', 'data visualisation techniques', 'software development skills', 'strong software development skills', 'telemetry data', 'data engineering', 'senior machine learning engineer', 'machine learning ability', 'ml engineering', 'programming techniques', 'technical business skills', 'good analytical skills', 'data visualization techniques', 'predictive modeling', 'product development  marketing techniques', 'interface', 'advanced machine learning algorithms', 'advanced statistical techniques', 'excellent written verbal communication skills', 'server', 'statistical computer languages', 'code development', 'debugging', 'machine learning tools', 'programming tools', 'mathematical modelling', 'statistical modeling', 'sql databases', 'data access', 'experian', 'physical mental wellness', 'coding standards', 'data modeling', 'data warehousing', 'professional software engineering practices', 'scalable algorithms', 'strong analytic skills', 'explatory analysis', 'data visualization principles', 'machine learning engineering', 'model design', 'visualization', 'advanced machine learning', 'data builds', 'statistical data analysis tools', 'healthcare informatics', 'architecture design', 'backend', 'batch processing frameworks', 'data technology', 'l&d', 'streaming applications', 'coding languages', 'dashboarding tools', 'forecasting', 'merkle', 'text analytics', 'visualization tools', 'data algorithms', 'data tooling', 'python  java', 'source systems', 'geospatial data', 'image processing', 'principal machine learning engineer', 'quantitative analytics', 'standard machine learning libraries', 'data analysis methods', 'data tools', 'statistical data mining techniques glm', 'computational biology  bioinformatics', 'genomic analysis', 'novel machine learning', 'statistical genetics', 'unix environments', 'pressurised environment', 'strong organizational skills', 'salesforce', 'data intelligence', 'quality management', 'fax machine', 'data analysis expressions', 'computer', 'computer literacy', 'project management skills', 'sql knowledge', 'verisk analytics', 'mould', 'software development lifecycle ability', 'sas  spss', 'data space', 'sql code', 'database', 'statistical packages', 'adhoc analysis', 'investment management', 'portfolio management', 'relationship management', 'vba skills', 'written verbal communication skills', 'cummins', 'microsoft excel', 'agile development', 'excellent communication skills ability', 'ms office tools', 'rapid prototyping', 'erp', 'supplier management', 'gap analysis', 'online learning development tools', 'prototyping', 'sound analysis', 'excel  powerpoint', 'microsoft office', 'pc', 'windows server', 'performance management', 'excellent communications skills', 'r  vba', 'sql  tableau', 'stakeholder management', 'advanced sql skills', 'data warehouse models', 'insightful analysis', 'marketing director', 'strong microsoft office skills', 'time management', 'professional attributes ideal skills', 'scalable solutions', 'statistical solutions', 'analysis techniques', 'data research', 'ms office suite', 'professional communication skills', 'superior analytical skills', 'visualization techniques', 'advanced analytic techniques', 'digital capability', 'analytics capabilities', 'analytics ecosystem', 'api', 'advanced computer vision', 'forecasting algorithms', 'gcs computer recruitment services', 'postgres', 'warehouse management', 'ml environment', 'nlp engineer', 'nlp models', 'software solution', 'software solutions', 'product management', 'product marketing', 'visualization ability', 'vmware', 'data analytics infrastructure', 'data infrastructure', 'growth analytics', 'matrix structure', 'modern machine learning techniques', 'analytics manager', 'effective communication skills', 'microsoft research', 'spreadsheet', 'data  machine learning', 'data science  machine learning', 'innovative machine learning', 'beng', 'agile software engineering practices', 'natural language processing techniques', 'electrical engineering', 'processors', 'product development lifecycle', 'program management', 'verbal communication', 'machine learning engineer python role', 'modern analytic machine learning techniques', 'software engineering principles', 'software developer', 'software development lifecycles', 'advance analytics', 'sql  python', 'statistical analysis techniques', 'statistical machine learning models', 'strong statistical knowledge', 'data modeling experience', 'sap environment', 'sql  sas', 'meltwater', 'strong analytical critical thinking skills', 'linux', 'bioinformatic solutions', 'standard software engineering tools', 'art analytics', 'genome analysis', 'ngs', 'ngs data', 'strong programming skills python', 'strong organisational skills team player conduct', 'programmer', 'biopharma', 'customer analytics', 'web analytics', 'product analytics', 'strong programming expertise', 'advanced statistical machine learning models', 'sql queries', 'adobe', 'adobe analytics', 'analytics implementation', 'google analytics experience', 'oracle databases', 'scripting language experience', 'statistical guidance', 'statistical software', 'analytics consultancy', 'analytics capability', 'analytics engineer', 'innovative analytics solutions', 'data expertise', 'analytics solutions', 'experimental design', 'mathematical modeling', 'numerical analysis', 'parameter optimization', 'matrix environment', 'modelers', 'modeling', 'asset management', 'code management', 'digital innovation', 'gis', 'ms sql', 'spatial analysis', 'sql engineer', 'controllers', 'quantitative analysis', 'simulation models', 'strong programming skills', 'strong quantitative skills', 'bi analytics technology', 'cognos watson analytics', 'etl data', 'mhr analytics', 'microsoft analytics', 'mysql  postgres experience', 'reporting dashboard design knowledge', 'sap predictive analytics', 'ssrs scripting experience', 'automated scalable solutions', 'bi visualisation tool', 'dashboard design', 'data orchestration tools', 'software vendors', 'computational analysis', 'etl solutions', 'marketing materials', 'analytics specialists', 'strong relationship management skills', 'information management', 'machine learning cognitive capabilities', 'sap analytics cloud', 'sap data', 'sap ecosystem', 'engineering computer science', '#dtd', 'analytical capabilities', 'complex analytics', 'gb', 'computer graphics', 'signal processing', 'gpu', 'agile software development ability', 'cs  machine learning', 'language technology', 'os', 'perl experience', 'associated analytical tools', 'infrastructure management', 'strong python skills', 'data processing pipelines', 'software engineer', 'software engineer machine', 'big data tools', 'data environments', 'strong machine learning background', 'dataflow', 'experience building tools', 'python programming skills', 'statistical modelling tools', 'product  engineering', 'programming knowledge', 'intuit', 'data transformation', 'digital pathology', 'image analysis', 'network analytics', 'etc analysis', 'coding', 'database structures', 'mathematics  computer science', 'microstrategy', 'ai machine learning solutions', 'distributed computing tools', 'nlp libraries', 'spacy', 'edi', 'filename description', 'hpc', 'machine learning methods', 'mapreduce', 'nvidia', 'core consulting skills', 'creative design', 'agile development methodologies', 'digital data', 'forensic analysis', 'agile development methods', 'api development', 'data presentation', 'graphics', 'data ability', 'model management', 'programming language', 'tool development', 'machine learning approaches', 'clear communication skills', 'statistics  mathematics', 'unstructured data', 'data engineering technologies', 'data science consultancy skills', 'esg analytics', 'hadoop framework', 'oriented programming skills', 'experienced software engineer', 'rdf', 'modern machine learning', 'audio signal processing', 'data processing', 'language processing', 'statistical model', 'latest machine learning techniques', 'digital  data', 'software development tools', 'data science machine learning expertise', 'expert analysis', 'metabolomics', 'statistical data analysis', 'synthetic biology', 'communications technology', 'data engineering function', 'digital capabilities', 'network analysis', 'statistical machine learning', 'cognos analytics', 'ibm', 'ibm cloud', 'ibm data', 'spss', 'interpersonal communication', 'new software tools', 'software engineering practices', 'sql use', 'distributed systems', 'html', 'advanced analytics capabilities', 'analytics data', 'service management', 'aaai', 'production machine learning', 'retrieval', 'statistical metrics', 'query', 'analytical modelling techniques', 'data transformation tools', 'decision analytics', 'excellent data handling skills', 'strong technical knowledge', 'core technical skills', 'bash scripting', 'computer data science', 'geospatial analysis', 'linux environment experience', 'cs', 'data visualization', 'revenue management concepts', 'nlp experience', 'sql ability', 'analytical modelling', 'strong data analytics skills', 'eq', 'gis software', 'database structure', 'proactive management', 'visuals', 'nosql solutions', 'digital tools', 'mod', 'machine learning modelling', 'superior presentation skills', 'system analysis', 'database development', 'excellent verbal communication', 'software development methodologies', 'mathematical framework resourcefulness', 'standard data science techniques', 'commercial engineering', 'keras r  matlab', 'agile software development', 'common machine learning', 'machine learning engineering team', 'model development', 'chemical engineering', 'mechanical engineering', 'spreadsheets', 'linear algebra', 'digital signal processing', 'bayesian modeling', 'probabilistic modeling', 'robotics', 'sql hql experience', 'one visualization tools', 'startup environment', 'data analysis skills', 'game analytics', 'data analytics space', 'statistical predictive modelling techniques', 'guidelines policies interpersonal skills', 'data analysis workflows', 'great communication teamwork skills', 'automated controls', 'data factory', 'hellmann', 'sql  data', 'php', 'complex analysis', 'good programming skills', 'data science analytical tools', 'digital  mobile', 'bau', 'data analytics role', 'p&l', 'solution development', 'data visualization tools', 'digital measurement', 'internal external knowledge exchanges', 'modeling processes', 'new machine learning techniques', 'nielsen', 'nielsen measurement', 'outstanding analytical expertise', 'sci kit', 'statistical research', 'software data engineers', 'game development', 'c suite', 'software skills', 'bespoke analytics', 'data warehouse solutions', 'data loading', 'database systems', 'significant technical expertise', 'scrum methodology', 'excel  vba', 'ms visio', 'strong ms excel skills', 'database schemas', 'relational database technologies', 'data connectors', 'excellent numerical analytical skills', 'l', 'statistical methodologies', 'distributed computing hadoop', 'virtualization', 'good interpersonal skills', 'internal management', 'detailed design', 'programming skills python', 'dmo', 'solutions design', 'strong pc skills', 'erp systems', 'operational management', 'financial analysis', 'intro', 'script', 'advanced analytical tools', 'etl software', 'visual storytelling', 'developing analytics', 'new analytics solutions', 'excellent time management skills', 'developer tools', 'robust systems', 'data analytics solutions', 'data visualisation experience', 'dimensional data', 'software development processes', 'exposure management', 'task management', 'enterprise software', 'hatfield', 'software packages', 'statistical data', 'data protection', 'excellent organisational skills', 'data ethics', 'excellent data analysis skills', 'organisational time management skills', 'data files', 'microsoft office suite', 'resource management', 'relational database concepts', 'mapping software', 'analytical capability', 'technical analysis', 'product optimization', 'process management', 'analytic tools', 'strong organisational skills', 'ihs', 'ihs markit', 'superior communication skills', 'microsoft visio', 'marketing function', 'seamless', 'sql skills', 'data storage', 'data management process', 'strong analytical communication skills', 'trend analytics', 'data analytics skills', 'data design', 'analytics tools', 'class analytics', 'advanced excel skills experience', 'data management processes', 'data function', 'analytical software', 'data analysis knowledge', 'rbr', 'good management', 'pace technical skills', 'strong analysis skills', 'pdw', 'statistical languages', 'system configuration', 'wealth management', 'workstations', 'forensics', 'advanced microsoft office skills', 'good organisational skills', 'analytical statistical techniques', 'statistical data science techniques', 'analysis ability', 'exceptional communication skills', 'financial modelling', 'outstanding analytical skills', 'variance analysis', 'campaign analysis', 'microsoft powerbi', 'business management', 'financial management', 'crm systems', 'unified communications', 'systems analysis', 'exceptional organizational skills', 'product safety', 'excellent verbal written skills', 'sql expertise', 'web analytics tools', 'stakeholder management skills', 'advanced analytical skills', 'query management', 'internal communications', 'brd', 'leadership  management communication skills', 'line management', 'product innovation', 'system security', 'excellent computer skills', 'impactful analysis', 'intel', 'complex modelling', 'effective analytics', 'overall management', 'analysis software', 'statistical efficiency', 'customer communications', 'dba', 'hr software', 'phone systems', 'programmers', 'teradata', 'advanced data science techniques', 'product  analytics', 'strong sql skills', 'business  management', 'data manipulation tools', 'good interpersonal communication skills', 'mac', 'strong numeracy skills', 'microsoft excel  powerpoint', 'marketing automation', 'data machine learning', 'senior management ability', 'pricing analysis', 'market analysis', 'strong communications skills', 'data fluency', 'automated communication', 'backend engineers', 'tableau ability', 'excellent numeracy skills', 'sql database', 'animators', 'mysql databases', 'microsoft dynamics', 'hplc', 'business analysis tools', 'excellent communication stakeholder management skills', 'saas space', 'microsoft applications', 'marketing tools', 'standard tools', 'language skills', 'outstanding organizational skills', 'process automation', 'salesforce capabilities', 'salesforce crm', 'business modelling', 'information analysis', 'data warehousing concepts', 'sql development', 'analytical communication skills', 'data warehouse technology', 'datatonic labs', 'c++  java', 'forecasting models', 'machine learning capabilities', 'oldham', 'apple device', 'digital ecosystem', 'data mapping', 'digital applications', 'csm', 'workforce development', 'edge analytics', 'new analytics', 'crm system', 'strong analytical research skills', 'solid communication', 'business analysis techniques', 'exec', 'iis', 'gwi', 'gwi office', 'marketing communications', 'adwords', 'video conferencing', 'statistical analytics', 'system management', 'report design', 'marketing systems', 'cloud data warehouses', 'relational database experience', 'database etl', 'etl data transformation', 'excellent interpersonal skills ability', 'microsoft powerpoint', 'oracle cloud', 'data knowledge', 'system tools', 'statistical modelling techniques', 'bdd', 'data development', 'analytics strategy', 'advanced microsoft excel skills', 'data query', 'product analysis', 'strategy development', 'strong technical understanding', 'excel ability', 'json', 'energy analytics flexibility', 'intelligence forecasting capabilities', 'puzzle', 'robust analytics', 'digital solutions', 'product expertise', 'programme management', 'data systems improvements', 'account management', 'sql  excel', 'analytics models', 'microsoft data components', 'recovery strong analytical skills', 'applied machine learning', 'workflow analysis', 'iris', 'txt', 'enterprise environment', 'data analytical tools', 'good communication', 'pdf', 'statistical regression', 'strong analytical numerical skills', 'apple', 'sftp', 'insightful analytics', 'statistical knowledge', 'predictive modelling techniques', 'statistics background', 'regular communication', 'site analytics tools', 'crm data', 'dynamics crm', 'sql development skills', 'virtual learning', 'agile software development process', 'client management', 'performance analysis', 'sql bigquery', 'design system', 'data science knowledge', 'document analysis', 'dv clearance', 'process design', 'excellent excel skills', 'human computer interaction', 'visualization development', 'webgl', 'computer software', 'keyboards', 'spreadsheet  database', 'editing', 'interactive  technology', 'excellent communications', 'exceptional analytical skills', 'workflow management', 'microsoft visual studio', 'operations management', 'cfa', 'feature engineering techniques', 'crisis management', 'etl techniques', 'data analytics strategy', 'data  analysis', 'online tools', 'swot analysis', 'strong microsoft excel skills', 'crm tools', 'email marketing', 'functional design', 'structured analysis', 'strong written communication skills', 'system development', 'cgi', 'technical design', 'ifrs', 'complex analytical insights', 'performance design', 'successful management', 'amazon logistics', 'written oral communication skills', 'digital vision', 'analysis skills', 'agile software delivery methodology', 'strong communication presentation skills', 'powerpoint knowledge', 'erp systems sap', 'digital infrastructure', 'competitor analysis', 'data warehouse environment', 'ibm cognos', 'problem resolution', 'functional   technical competencies', 'mufg', 'predictive analysis', 'data handling', 'data & analytics platform', 'data analytics capabilities', 'excellent technical skills', 'technical analytical skills', 'data management strategy', 'microsoft excel knowledge', 'ms sql server', 'client communication', 'excel functions', 'analytical systems', 'sql visualisation tools', 'attribution analysis', 'performance analytics', 'hfm', 'financial engineering', 'prediction models', 'tag management', 'salesforce platform functionality', 'cloud data technologies', 'bioinformatics analysis', 'bioinformatics tools', 'written communication', 'analytics skills', 'data visualization experience', 'machine learning methodologies', 'microsoft sql', 'excellent presentation skills', 'gds', 'database administration', 'sql server experience', 'external environment', 'product capabilities', 'strong data wrangling skills', 'inventory management', 'strong writing skills', 'site analytics', 'social analytics', 'sql query', 'azure data warehouse', 'data modeler', 'data visualization skills', 'fico', 'sql developer', 'design skills', 'software analysis', 'written communication skills', 'bi visualisation tools', 'microsoft sharepoint', 'data analytics tools', 'data warehouse architecture', 'data modeling techniques', 'technical  engineering scientific expertise', 'arcgis', 'analytics data science team', 'digital skills', 'information processing', 'programming environments', 'data analytics solution design', 'data analytics strategies', 'data technology solutions', 'implementation management', 'data analytics solution design implementation expertise', 'software testing', 'data environment', 'excellent analytical abilities', 'kanban', 'advanced data visualization', 'architectural design', 'matrix environment ability', 'ms ssis', 'analytics tool', 'bi analytics tools', 'etl development', 'large data warehouse', 'exception management', 'marketing managers', 'strong data analytical skills', 'spotfire  tableau', 'data manipulation techniques', 'visual analysis', 'statistical expertise', 'csai os management', 'autocad', 'autodesk', 'bim', 'cad', 'digital cartography', 'esri arcgis', 'formatting', 'lidar', 'machine learning researcher', 'statistical learning', 'visual analytics', 'advanced mathematical techniques', 'bayesian optimization', 'kernel methods', 'new machine learning methods', 'statistics ability', 'strong technical analytical abilities', 'excellent writing skills', 'debug analytics', 'illumina', 'statistical software packages', 'statistician', 'scala  python', 'computer vision solutions', 'niantic', 'algorithm implementation', 'data modelling concepts', 'etl tool', 'predictive analytics experience', 'excellent interpersonal communication skills ability', 'design  configuration', 'demand management', 'contract management', 'smb', 'automated response', 'sophisticated analytics', 'crystal', 'cloud data warehouse technologies', 'digital knowledge', 'gcs', 'user management', 'website analytics', 'siggraph', 'knowledge management', 'analytical instrumentation', 'python programming experience', 'machine learning interpretability', 'solid technical skills', 'distributed computing', 'monetization systems', 'sophisticated complex statistical techniques', 'fortran', 'relational', 'data resources', 'embl', 'scripting language', 'sql query language', 'bioinformatic analysis', 'sales analytics', 'statistical algorithms', 'senior machine learning scientist', 'ajax', 'computer programming', 'advanced analytics solutions', 'sql  r  python', 'dss', 'pci', 'strong analytical quantitative skills', 'data curation', 'econometrics   maintenance', 'ibm  honeywell', 'quantum hardware', 'strong research skills', 'laboratory environment', 'data management experience', 'statistical programmers', 'prototype systems', 'statistics  machine learning', 'data workflows', 'expert analytical skills', 'programming specifications', 'unstructured data analytics', 'advertising ecosystem', 'r python knowledge', 'statistical modelling  machine', 'data science machine learning solutions', 'data stack', 'data capabilities', 'statistical input', 'statistical programming', 'data analytics capability', 'digital expertise', 'scalable data products', 'statistical analysis experience', 'excel user', 'analytics  machine', 'computer skills', 'data retrieval', 'processing data', 'unix environment', 'embedded systems', 'hwu', 'computer systems', 'production design', 'strong software engineering skills', 'program design', 'data identification', 'intelligent automation', 'design  analysis', 'statistical consulting', 'combinatorial optimization', 'exceptional analytical quantitative skills', 'chemical engineering  chemistry', 'economic modelling capabilities', 'clinical management', 'playbook', 'hiscox', 'modern analytics', 'database system', 'luigi', 'financial engineering  mathematics', 'python programming language', 'computational tools', 'strong collaboration skills', 'problem analysis', 'mathematical optimization', 'upper management', 'computational neuroscience', 'machine learning toolkits', 'evaluation design', 'analytics programs', 'admin', 'automation tools', 'nosql database', 'design prototype', 'machine learning expertise', 'lims', 'release management', 'cheminformatics', 'data engineering skills', 'data science machine learning capabilities', 'downstream analytics', 'massively scalable software', 'analysis infrastructure', 'devops  data engineering developer resources', 'hadoop ecosystem', 'nlp techniques', 'automation scripts', 'network technology', 'software systems', 'software development lifecycle', 'workflow management tools', 'data input', 'automated systems', 'network architecture', 'appropriate modeling techniques', 'preferred technical professional expertise', 'statistical machine learning techniques', 'data lifecycle', 'algorithms experience visual analytics tools', 'data visualization expertise', 'machine learning  software skills', 'econometrics  mathematics', 'analytics techniques', 'statistical data analysis field', 'docker  kubernetes', 'csv', 'medtech', 'wrd', 'visualization libraries', 'query tools', 'software architects', 'excellent analytics', 'erp solutions', 'advanced data warehousing concepts', 'productivity analysis', 'strong analytical capabilities', 'cognos', 'photoshop', 'statistical analytical techniques', 'data administrators', 'technical soft skills', 'proprietary software', 'visual representation', 'gartner magic', 'verbal written communication skills', 'unstructured environments', 'data department', 'scheduling tools', 'crm expertise', 'cdw', 'ax', 'systems capabilities', 'excellent quantitative skills', 'fdm', 'etl  analytics', 'excellent organization skills', 'amazing data warehouse', 'analytics infrastructure dbt', 'general data warehousing concepts', 'payload design', 'scrum logistics', 'data engine', 'prediction algorithms', 'biomedical engineering', 'edge data mining techniques', 'bioinformatics applications', 'bioinformatics software', 'analytical laboratory', 'numerical analysis good communication skills', 'ai machine learning products', 'budget management', 'data  information', 'data science analytics tools', 'graphical models', 'software architecture', 'exceptional communication', 'analytical environment', 'project management techniques', 'technology design', 'analytics software', 'data analytics community', 'predictive modeling  machine', 'sas programming experience', 'class analytics skills', 'fractal analytics', 'modeling languages', 'advanced modelling techniques', 'query databases', 'database management tools', 'strong planning organisation skills', 'algorithmic solutions', 'simulation software', 'jvm', 'processing nlp', 'visual computing', 'data  systems', 'new technical skills', 'statistical modelling experience', 'strong analytics', 'niantic engineering', 'statistical methods ability', 'advanced statistical modeling techniques', 'geospatial analytics', 'iterative development', 'strong project management skills', 'coding knowledge', 'computing tools', 'sql  pl', 'statistical data mining techniques', 'backend infrastructure', 'voice dance skills', 'analytics packages', 'visualisation packages', 'chep', 'digital space', 'good scripting programming skills', 'data visualization support', 'hadoop  data visualization tools', 'product engineers', 'prototype development', 'labview', 'geophysics', 'software development experience', 'algorithm development', 'geospatial data analysis', 'linear programming', 'software engineering lifecycle', 'database environment', 'python   machine learning libraries', 'analytics platform', 'analytics technology', 'statistical machine learning methods', 'applied analytics', 'analytics needs', 'agile software development experience', 'disruptive digital technologies', 'time management skills', 'statistical machine', 'data vision', 'people management skills', 'workflow management platforms', 'dsp', 'excellent communication collaboration skills', 'css', 'company design', 'data analytics products', 'predictive analytics techniques', 'altair', 'commercial data science tools', 'mechanical design', 'software cloud solutions', 'data processing frameworks', 'data analytics professionals', 'new machine learning products', 'linux systems', 'campaign design', 'manual pipettes', 'advanced analytics algorithms', 'cloud software', 'data management solutions', 'software implementation', 'efficient processing', 'python java', 'palo alto', 'product management role', 'css  javascript', 'project management tools', 'snapchat', 'summarization', 'ml tools', 'art machine learning', 'biostatistics  epidemiology', 'sas programming', 'statistics  machine', 'omics analysis', 'statistical geneticist', 'data resource', 'database engineers', 'advanced machine learning techniques', 'strong python programming skills', 'lab environment', 'web applications', 'good organizational skills', 'machine learning expert', 'linux environment', 'systems biology', 'dlp', 'data science knowledge sharing', 'machine learning canvas', 'linux environments', 'audio  speech', 'critical thinking skills', 'strong scripting skills', 'informatica', 'statistical information', 'agile software development team', 'code versioning tools', 'regression analysis', 'advanced analytic skills', 'sql  excellent knowledge', 'data analytics techniques', 'machine learning apis', 'sql python experience', 'research  analytics', 'strong verbal written skills', 'data science analytics', 'sql relational databases', 'partner management', 'presentation communication skills', 'ai  machine learning', 'highly creative  innovative passionate team', 'ml  optimization algorithms', 'robust design  development', 'ansible  docker', 'stream processing', 'cam heald', 'edge analytical tools', 'statistical learning techniques', 'apache hadoop', 'algorithmic', 'software engineering skills', 'ssh', 'excellent organizational skills', 'ms excel experience', 'jmp', 'agile software development practices', 'java expertise', 'software platform', 'strong stakeholder management skills', 'class management consulting training', 'creative design expertise', 'data science expertise', 'unstructured data analytics  natural language', 'cse', 'design techniques', 'computer vision products', 'computer vision tools', ' analytics', 'data analytics services experience', 'intelligent automation  machine learning', 'strategy  design delivery capability', 'great technical skills', 'virtual assistants', 'multiple machine learning', 'nlp solutions', 'programming language python', 'geospatial datasets', 'algorithmic complexity', 'data visualization libraries', 'efficient analytics', 'statistical mathematical software', 'data modeling processes', 'deep technical skills', 'various machine learning techniques', 'data analytics practice', 'sql familiarity', 'transportation management', 'programming expertise', 'common machine learning techniques', 'algorithms  software design', 'data software engineering', 'microsoft ecosystem', 'microsoft technology', 'data management area', 'workstation', 'staff machine learning engineer', 'relational database', 'talent management', 'computational modelling', 'experience design', 'advanced programming skills', 'programming language experience', 'cloud storage', 'coding  mathematics', 'systems engineering', 'excellent programming skills', 'design  architecture', 'strong communication skills experience', 'data machine learning pipelines', 'team management', 'data pipelining', 'task automation', 'data engineering development', 'coding language', 'data visualisation skills', 'data science proficiency', 'yield management', 'looker  tableau', 'app developers', 'initial analysis', 'data analytics technologies', 'data structure', 'prescriptive analytics', 'desktop', 'good presentation skills', 'strong data management skills', 'visual analytical tools', 'statistical modeling techniques', 'user interface', 'business  analytics', 'data visualization analytics tools', 'enterprise analytics', 'complex software', 'biostatistics department', 'r software', 'r  java', 'statistical skills', 'nlp problems', 'data processing tools', 'modern software engineering tools', 'relational data modeling', 'test automation', 'seagate', 'new analytical skills', 'data cleaning', 'segmentation analysis', 'lua', 'econometrics  computer science', 'statistical computing', 'source management', 'version control tools', 'audio  language', 'high energy havood communication skills', 'language  accent', 'federated learning', 'communications skills', 'deep technical expertise', 'lifecycle management', 'assay development', 'machine learning lifecycle', 'hardware  software', 'workflow systems', 'software programs', 'computer engineering', 'geospatial', 'geospatial data scientist', 'geospatial services', 'visual tools', 'full management', 'nlp algorithms', 'analytics systems', 'global analytics', 'haskell', 'strong modeling', 'architecting data stack tools', 'data analysis understanding', 'edb', 'hadoop cluster', 'data platform aspects', 'arima', 'r programming', 'big picture leadership technical skills', 'core statistical skills', 'statistics programming skills', 'texture', 'statistical modeling  machine', 'stochastic systems', 'artificial intelligence & machine learning jobs', 'gpu programming experience', 'metadata management', 'tools  techniques', 'video analysis', 'statistics algorithms ability', 'edge machine learning solutions', 'data analytics platform', 'statistical applications', 'extensive technical knowledge', 'artificial intelligence machine learning', 'ucb', 'analytics expertise', 'oracle database', 'advanced data visualization skills', 'analytical skills  intellectual curiosity', 'latest machine learning', 'cuda  cudnn', 'machine learning frameworks pytorch', 'statistical analysis tools', 'analytics engineers', 'engineering  physics', 'nosql', 'strong analytical ability', 'distributed data processing', 'nlp tools', 'standard machine learning methods', 'systems software', 'computational linguistics', 'fast prototyping', 'data annotation', 'consumer analytics', 'operational analytics', 'fluid environment', 'hadoop map', 'linear logistic regression', 'orchestration tools', 'jpa', 'r  stata', 'machine learning approach', 'machine learning concepts', 'strong development skills', 'statistical programmer', 'processing algorithms', 'reusable tools', 'analytics code', 'data engineering concepts', 'forecasting techniques', 'statistical analytical tools', 'atlassian tools', 'revenue management', 'statistical analysis software', 'dell', 'data analytics developer', 'analytic systems', 'saas platform', 'cisco', 'network security', 'sql  sccm', 'management consulting', 'visual design', 'data modelling skills', 'visualisation tool', 'cmms', 'modelling solutions', 'snowflake data warehouse', 'sql database administrators', 'sql  etl', 'defect management', 'microsoft sql server reporting services', 'sql database queries', 'sql server integration services', 'schema design', 'automation solutions', \"mvf's data documentation\", 'tools tool combinations', 'database code', 'marketing technology', 'query optimization', 'keras  pytorch', 'complex analytical techniques', 'data assessment', 'ml lifecycle', 'mq', 'predictive modeling experience', 'technical fluency comfort understanding', 'strong technical abilities', 'integrated analytics', 'advanced technical skills', 'software installation', 'proteome', 'statistical mathematical methods', 'graphical presentation', 'distributed processing', 'infrastructure automation', 'machine learning developer', 'microsoft office experience', 'manufacturing systems', 'analytic expertise', 'strong math skills', 'digital intelligence', 'system modelling', 'data science analytics skills', 'agile software development lifecycle', 'strong analytical skills ability', 'distributed data storage', 'html  css', 'relational databases knowledge', 'cloud computing solutions', 'customer management', 'novel machine learning methods', 'analytics managers', 'crm analytics', 'multivariate analysis', 'retail analytics', 'workload management', 'specialist engineering technical recruitment solutions', 'network administration', 'custom tools', 'applied statistics skills', 'statistical scripting language', 'communication presentation skills', 'analytics project', 'data analytics applications', '#  c', 'exceptional customer relationship skills', 'statistical application', 'lab technicians', 'app development', 'scalable infrastructure', 'experienced machine learning engineer', 'streaming analytics', 'gui', 'rdbms', 'ms excel  word', 'nlp methods', 'strong interpersonal communication skills ability', 'sophisticated machine learning', 'python numpy', 'discriminant analysis', 'econometrics  physics', 'building analytics', 'data warehousing principles', 'database architecture', 'imaging data', 'processing systems', 'computer scientist', 'solid programming skills', 'tools  systems', 'depth technical expertise', 'proven analytical skills', 'sql server analysis services ssas', 'software development environment', 'advanced excel knowledge', 'business analytical skills', 'statistical analysis role', 'tableau skills', 'complex technical knowledge', 'data visualization software', 'product analytics tools', 'software product', 'data evaluation', 'data visualisation presentation ability', 'machine learning natural language processing', 'ms excel python', 'teams’ technical acumen', 'database tools', 'technical writing skills', 'programming python', 'macos', 'microsoft suite', 'data analytics initiatives', 'written interpersonal skills', 'sql data warehouse', 'powerpoint skills', 'data modelling techniques', 'good technical skills', 'software quality assurance', 'data documentation', 'marketing analysis', 'application design', 'solid written verbal communication skills', 'strong analytic critical thinking skills', 'computational complexity', 'software components', 'azure analytics recruitment', 'data warehouse culture flexible technology', 'data warehouse development maintenance', 'ssis ssrs', 'oracle data integrator', 'finance exceptional analytical skills strong written verbal communication skills', 'business’s data warehouse', 'excellent microsoft office skills', 'data administration', 'great interpersonal skills', 'similar visualization software', 'company data warehouse', 'software upgrades', 'analytics development', 'coordinator', 'ms excel skills', 'turbo', 'design methodology', 'sql query building', 'cluster analysis', 'data analytic products', 'data storytelling skills', 'dimensional modelling', 'design software', 'microsoft crm', 'ms powerbi', 'design analysis', 'robust tools', 'database administrator', 'margin analysis', 'powerpoint presentation', 'database skills', 'technical analytical expertise', 'sql  ssrs', 'basic language qualifications interpersonal skills', 'business analysis experience experience', 'computer programming concepts', 'skills presentation skills', 'sql  ssis', 'powerpoint experience', 'health analytics', 'marketing department', 'etl packages', 'ms office products', 'syntax', 'customer analysis', 'data & analytics function', 'computer software programs', 'campaign management', 'tracking tools', 'statistical analysis skills', 'forecasting tools', 'data workflow', 'querying tools', 'coding style', 'columnar relational databases', 'data interfaces', 'dynamodb  mongodb', 'new technology effective communication skills', 'script  configuration', 'strong bi presentation skills', 'system software architecture', 'tdd bdd familiarity', 'tableau administration', 'soc environment', 'advanced analytical capabilities', 'etl design', 'broad technical skills', 'data tool ecosystem', 'digital workplace', 'unstructured environment', 'pega', 'software development engineers', 'amp analytics', 'data engineering experience', 'data engineering solutions', 'strong communication skills ability', 'idt', 'business analysis skills', 'ms dynamics', 'tableau server', 'python excellent communication skills', 'strong data analytic skills', 'hewlett packard enterprise', 'edge digital technology', 'omniture', 'business design', 'test automation frameworks', 'enterprise software solutions', 'intermediate excel skills', 'data warehouse design', 'erp system', 'healthcare management', 'strong quantitative analysis skills', 'marketing analytics experience', 'client analytics', 'strong ms office skills', 'database technology', 'sql  java', 'computer applications', 'data modelling tools', 'database design development', 'relational database structures', 'sampling techniques', 'relationship building skills', 'funnel analysis', 'saas product', 'microsoft tools', 'strong technical communication skills', 'data warehousing experience', 'revenue analytics', 'python  php', 'agile tools', 'exceptional interpersonal skills', 'application development', 'scalable machine learning', 'matlab  python', 'signal processing algorithms', 'rwd', 'optimization algorithms', 'performance engineering', 'application lifecycle', 'solid coding skills', 'etl elt tools', 'mathematics  bioinformatics', 'startup ecosystem', 'automated system', 'media analytics', 'stanford nlp', 'gartner', 'exceptional analytical conceptual thinking skills', 'etl tools ssis', 'scala python', 'word  powerpoint', 'apm', 'company description creativity', 'ms suite', 'warehouse environment', 'etl developer', 'analytics technologies', 'data warehousing technologies', 'excellent project management skills', 'analytical thinking skills', 'visual communication', 'consulting expertise', 'database  analytics', 'erp software', 'experience management', 'sap sap innovations', 'ms excel  powerpoint', 'workflow tools', 'relational database environment', 'microsoft office skills', 'excel macros', 'systems design', 'dml', 'ms office excel', 'sparql', 'xpath', 'xslt', 'process improvement skills', 'ww', 'data analytics software', 'crm database', 'marketing cloud', 'powerpoint presentations', 'etl  data', 'salesforce marketing cloud', 'current data warehouse', 'scenario design', 'hr analytics', 'reporting analytics solutions', 'database solutions', 'relational structures', 'management techniques', 'hadoop stack', 'software engineering experience', 'robust analysis', 'copiers', 'manual dexterity', 'cost management', 'data management platforms', 'database administrators', 'advanced analysis skills', 'outlook  powerpoint', 'sap erp', 'data management skills', 'peoplesoft', 'strong computer skills', 'workforce management', 'query design', 'coupa software', 'management bsm', 'data tracking', 'oral  written nonverbal communication skills', 'statistical research methods', 'word processing', 'computer equipment', 'computer keyboard', 'computer screen', 'tracking systems', 'typewriter keyboard', 'financial modeling', 'data analytics background', 'machine data', 'vendor management', 'powerpoint  outlook', 'data center', 'reporting data tools', 'tableau software', 'case management', 'javascript  html', 'presentation skills ability', 'desired knowledge  skills', 'data management tools', 'customized workflow reporting tools', 'data analysis specialist', 'customer service skills', 'statistical software applications', 'applications development', 'capgemini   capgemini', 'batch data processing', 'sql server understanding', 'visualization tool', 'language skills ability', 'chain management', 'aerospace engineering', 'interactive tools', 'strong critical thinking skills', 'report automation', 'strong data visualization skills', 'automation framework', 'data warehouse model', 'data warehouse technologies', 'dimensional modeling', 'supporting data warehouse', 'network engineering', 'schema design  data modeling', 'advanced analytic tools', 'relational sql', 'advanced sql knowledge', 'improvement  strong analytic skills', 'devops tools', 'bs computer science', 'mysql  oracle', 'scripting language python', 'flume', 'iam', 'hdfs  hadoop', 'software  hardware talent', 'data etl', 'mysql  postgresql', 'data engineering bachelor', 'visualization software', 'data engineering tasks', 'etl workflows', 'cupertino', 'awk', 'infiniband', 'azure sql warehouse', 'sql  data transformations', 'intuitive analytics', 'automation knowledge', 'api design', 'dev environment', 'ruby  java', 'strong collaboration communication skills', 'api gateway', 'data modeling knowledge', 'oral written communication skills', 'power analytics', 'software engineering standard methodologies', 'professional software development experience', 'transcript', 'data warehousing design implementation  table structure', 'sourcing analytics expertise', 'computer networking', 'inventory systems', 'ticketing system', 'ai analytics & engineering community', 'digital landscape', 'multiplatform environment', 'strong technical aptitude', 'puzzle solver', 'snowflake data warehouse analytics systems', 'sql systems', 'hadoop hdfs', 'scripting ability', 'management tools', 'identity management', 'data warehouse experience', 'algorithm design', 'analytic knowledge  skills', 'data analysis expertise', 'data retrieval techniques', 'data visualization methods', 'sas  multivariate statistical methods', 'northridge', 'animation', 'interactive data visualizations', 'interactive visualization', 'proficient programming skills', 'gpu programming', 'source control tools', 'excellent listening skills', 'analytics problems', 'computer technology', 'presentation materials', 'big data analytics tools', 'computer languages', 'data engineering tools', 'statistical analysis  machine learning', 'leverage analytics', 'agile software development methodologies', 'c++ programming', 'xslt experience', 'impactful data modeling designs passion', 'negotiation  persuasion skills', 'scalable automated etl', 'data warehousing solutions', 'backend systems', 'stream processing technology', 'llnl', 'ms sql server experience', 'data visualization tools experience', 'eai', 'statistical analysis methods', 'application systems', 'ms office suite word', 'design architecture', 'java  c++', 'computer terminal', 'automation tool', 'erp systems experience', 'projection', 'data  design', 'data standardization', 'data visualization tool', 'dhcp', 'presentation development', 'domain modeling', 'computer workstation', 'advanced technical business skills', 'cfr', 'u  department', '#l', 'available analytics', 'excellent interpersonal  communication skills', 'sas  ssrs', 'statistical modeling methodologies', 'doc', 'microsoft windows', 'oral communication', 'technical engineering', 'workforce analytics', 'communications systems', 'content management', 'oracle applications', 'fax machines', 'microsoft office suite word', 'photocopiers', 'repetitive motion', 'centene', 'written verbal communication skills ability', 'strong analytical abilities', 'northrop grumman', 'econometric modeling', 'excel spreadsheets', 'operations analysis', 'data management procedures', 'data information', 'structured analytic techniques', 'data integration tools', 'document management', 'close visual acuity', 'visual acuity', 'visual inspection', 'strong technical analytical skills', 'superb communication skills', 'microsoft office software', 'automates', 'statistical software r', 'sql  hadoop', 'presentation software', 'data visualization platforms', 'strong written verbal skills', 'mcafee', 'hardware software products', 'data analysis methodologies', 'visual graphics', 'agile software development concepts', 'functional analysis', 'continuous communication', 'data processing concepts', 'database spreadsheet applications', 'software implementations', 'strong organizational analytical skills', 'design graphics application', 'likoogle analytics', 'enterprise data warehouse solutions', 'sql  shell', 'technical functional skills', 'query data', 'systems management', 'walnut', 'c#  java', 'software programming', 'data processing techniques', 'analytics data engineering teams', 'organizational time management skills', 'great interpersonal presentation skills', 'statistical modeling tools', 'avionics', 'data templates', 'sap system', 'peripherals', 'executive management', 'interface analysis', 'computer terminals', 'sql language', 'best analytics', 'analytics specialist', 'microsoft office suite experience', 'knowledge  skills  abilities', 'ssis• data manipulation tools', 'tools like• etl tools alteryx', 'intermediate analytical quantitative skills', 'data ecosystem', 'nlp ability', 'database developers', 'microsoft project', 'solid organizational skills', 'wk', 'coremetrics  adwords', 'oracle sql developer', 'scheduler', 'data monitoring', 'medical management', 'proficient pc skills', 'sas visual analytics', 'department management', 'strong analytical organizational skills', 'salesforce environment', 'program management skills', 'superior organizational skills', 'advanced modeling', 'svb', 'oracle ebs', 'program analysis', 'industrial engineering', 'materials management', 'analytics intervention', 'dashboard automation processes', 'data dashboard quality assurance', 'enterprise data analytics strategies', 'storytelling analytics', 'clinical analytics', 'clinical data expertise', 'database query', 'visualization design', 'data analytics technology initiatives', 'product architecture', 'ansi', 'data warehouse technical architecture', 'data quality tools', 'data system', 'client interfacing skills', 'data modelers', 'netezza', 'mysql  mariadb', 'oracle  sql server', 'software tools experience', 'data center engineering team', 'data processing platform', 'scala programming', 'business technical acumen', 'cloud applications', 'data platform capabilities', 'access management', 'written  interpersonal communication skills', 'mode analytics', 'reporting analytics tools', 'distributed systems design', 'cloud data solutions', 'scalable extensible solutions', 'excellent communication  analytical collaborative problem', 'net  java', 'sql data warehouse platform', 'sql server  oracle', 'ide', 'java programming', 'unix tools', 'computer science engineering', 'data analytics  customer analytics data services', 'data platform ecosystem', 'application developers tools', 'oltp systems', 'leverage automation', 'systems  tools', 'etl architecture', 'emeryville', 'spreadsheet software', 'statistical package', 'esri', 'excellent customer service skills', 'batch processing', 'scala expertise', 'quality engineering', 'visual analytics platform', 'networking data storage', 'coder', 'ehr', 'proprietary tools', 'sql  postgres', 'data distribution', 'oltp', 'scripting skills', 'computing environments', 'dib', 'oracle  tableau', 'proofpoint', 'sift', 'infrastructure engineering', 'visualization packages', 'kernel', 'software engineering expertise', 'scalable systems', 'obsidian  machine learning', 'saas security', 'data platform tools', 'moveworks data science engineering team', 'sql  programming skills', 'data systems experience', 'dimensional analysis design', 'solid design', 'software design patterns', 'data processing solution', 'realtime', 'data automation', 'data visualization technologies', 'increased automation', 'solid analytical skills', 'data engineering components', 'debugging skills', 'frontend development', 'house visualization tools qualifications', 'etl framework', 'general software engineering skills java', \"route's software engineers\", 'data asset', 'rdbms nosql databases', 'verbal  written communication skills', 'shell scripting', 'backend programming', 'backend storage', 'columnar database', 'ms sqlserver', 'stack relational database experience', 'storage api', 'database engineering', 'immersive digital experiences', 'roblox admin badge', 'software stack', 'software quality', 'project design', 'data processing algorithms', 'oscilloscopes', 'data application', 'data processes expertise', 'deep technology expertise', 'increasing automation', 'software craftsmanship', 'apache flume', 'java  hadoop', 'automation systems', 'data store', 'gis data', 'dicom', 'python  matlab', 'platform ecosystem', 'data software engineers', 'automation skills', 'data platform design', 'conceptual design', 'data warehouse modeling', 'strong organizational communication skills', 'specialized software engineering experience', 'diagnostic tools', 'elt tools', 'software development experience experience', 'data management practices', 'technical design documentation', 'product  design', 'mdm tools', 'programming scripting languages', 'skillful analysis', 'stefanini', 'nlp toolkits', 'sql nosql databases', 'verbal communication skills', 'server hardware', 'aws emr', 'scalable data processing', 'rdbms systems', 'distributed systems ability', 'guidewire software  inc', 'pst', 'saas applications', 'linux unix environment', 'computer engineer', 'reliable systems', 'cloud computing technologies', 'hadoop hive', 'streaming systems', 'danaher', 'excellent sql skills', 'agile software development environment', 'braintree', 'relational database skills', 'code design', 'alphabet', 'oracle sql server', 'marketing marketing', 'etl informatica', 'microsoft ssis', 'data  tools', 'aws advanced programming skills', 'data analytics work', 'problem excellent interpersonal communication skills', 'quickbooks', 'scala  r', 'software provider', 'data visibility', 'platform engineering', 'scripting python', 'sensor systems', 'software integration', 'ksh', 'strong organizational skills ability', 'reverse engineering', 'data warehousing techniques', 'data virtualization', 'hardware design', 'nosql implementation', 'quality design', 'aws ecosystem', 'sr  software engineer', 'load etl', 'data processing framework', 'file system', 'memory management', 'data processing technologies', 'data processing software', 'custom software components', 'orm', 'ems', 'facility management', 'data storage technologies', 'file systems', 'data accessibility', 'neurotechnology', 'changing management', 'natera', 'proprietary bioinformatics', 'bgp', 'ecr', 'ms computer science', 'predictive analytics tools', 'required qualitative quantitative skills', 'data processing capabilities', 'python scripting', 'cloud data warehouse', 'etl elt processes', 'relational nosql databases', 'workflow orchestration tools', 'backend development', 'crm platform', 'software engineering tools', 'java  php', 'corelogic', 'ebs  efs', 'nfs', 'zfs', 'digital marketing solutions', 'robust scalable solutions', 'lucene', 'behavioral analytics', 'etl developers', 'digital  technology', 'database design principles', 'network equipment', 'coding systems', 'etl code', 'software engineer experience', 'data analysis capabilities', 'ms excel  access', 'dds', 'outstanding communications skills', 'budget analysis', 'collaboration conflict resolution skills', 'general management', 'claims management', 'healthcare analytics', 'computer screens', 'network systems', 'communications design  partnership', 'expert level skills', 'dashboards design', 'machine learning workflows', 'fundamental analytical conceptual thinking skills', 'organizational  time management skills', 'excellent organizational communication skills', 'utilization management', 'data warehouse tables', 'automation processes', 'database programming', 'statistical mathematical methodologies', 'strong architectural skills', 'etl systems', 'strong verbal communication skills', 'scalable system', 'data modeling tools', 'data warehouse architect', 'etl processing', 'olap cubes', 'saas solutions', 'sql  ability', 'data management fundamentals', 'predictive analytics products', 'innovative analytics', 'processing technology', 'audio video communication experiences', 'sql  presto  spark', 'statistical programming activities', 'artificial intelligence machine learning applications', 'sophisticated modeling', 'filemaker', 'r  excel', 'stata  sas', 'automated analysis tools', 'cognitive computing technology', 'lilly research laboratories oncology organization', 'sas programming language', 'statistical computing environment', 'mobile device', 'strong engineering coding skills', 'challenging algorithms expertise', 'coding efficient  object', 'intelligent software', 'modularized quality software knowledge', 'traditional analytical tools', 'workflow efficiency', 'product engineering counterparts', 'channel optimization', 'interpersonal communication skills', 'merchant analytics', 'einstein analytics', 'relational database design', 'statistical estimation', 'data science machine learning techniques', 'unix systems', 'ihc', 'audio analytics', 'data science machine learning team', 'leading machine learning', 'lyft', 'visualization tools tableau', 'behavioral analysis', 'modeling expertise', 'ml nlp tools', 'product management engineering departments', 'cognitive toolkit', 'electrical engineering  mathematics', 'exceptional technical expertise', 'experiment design experience', 'analytical  statistical  programming skills', 'company management', 'machine learning engineer  software engineer', 'design systems', 'eda', 'sql data visualization tools', 'engineering management experience', 'querying relational databases', 'failure analysis', 'bioinformatics algorithms', 'biomedical informatics', 'power management', 'l+d', 'big data tools experience', 'digital attribution', 'data engineering ecosystem', 'deep  probabilistic learning machine learning software', 'excel  tableau', 'verbal presentation skills', 'analytics department', 'marketing measurement', 'website analytics tools', 'advanced sas programming skills', 'digital marketing analytics', 'strong sql knowledge', 'neo runtime', 'statistics machine learning techniques', 'solid interpersonal skills', 'related analytics', 'effective interpersonal skills', 'ensemble modeling', 'bagnell', 'lead machine learning', 'gpu computing', 'storytelling technical accuracy', 'digital assistants', 'chatbots  virtual assistants', 'ic', 'olap databases', 'measurement systems', 'latest software development tools', 'matlab  sas', 'software engineering work experience', 'advanced analytics visualization applications  ability', 'd&ds capabilities', 'image analytics', 'iterative agile methodologies', 'quantitative analysis skills', 'visualization transformation', 'public speaking skills', 'olap', 'asml', 'coding  analytics', 'economics  analytics knowledge', 'statistics  computer science', 'stream processing technologies', 'leica biosystems', 'css c#', 'mvc wcf xaml', 'overall software development experience', 'state management', 'modern advanced analytical tools', 'strong technical programming skills', 'http mechanics', 'query language', 'integrative analysis', 'verbal written interpersonal skills', 'content analysis', 'nlp  deep learning methods', 'statistical modeling expertise', 'advanced visualization', 'great presentation skills', 'python expertise', 'industry software engineering experience', 'sas coding', 'semantic analysis', 'data warehousing environment', 'tableau desktop', 'model optimization', 'advanced modeling techniques', 'assortment optimization', 'user interface engineers', 'data visualization design', 'data visualization solutions', 'advertising technology', 'agile software development methods', 'built analytics solutions', 'computer hardware', 'new digital tools', 'strong software engineering background', 'role analytics', 'deep analytical insights', 'intel architecture', 'opencl', 'analytics tools experience', 'statistical models experience', 'data engineering processes', 'berkeley lab', 'r programming language', 'dod security clearance', 'technical communication', 'sql nosql database', 'strong technical acumen', 'engineering management', 'saas environment', 'supervised machine learning', 'digital analytics data', 'tag management solutions', 'experiment design', 'analytics methodologies', 'data science machine learning methodologies', 'software framework', 'visualization product vision', 'experimentation design', 'image processing algorithms', 'excellent sql excellent communication skills', 'ltv analysis', 'metric development', 'product  marketing', 'sequence analysis', 'big data skills', 'pattern analysis', 'multimodal', 'data analytics pipeline', 'numerical scripting language', 'particular knowledge  skills', 'exceptional analytical capabilities', 'epidemiology  biostatistics', 'advanced analytics techniques data', 'marketing research', 'marketing tactics', 'hardware engineers', 'software experience', 'rendering', 'predictive analytics platform', 'behavioral modeling', 'cloud computing environment experience', \"discord's machine learning team\", 'computer network', 'advertising software platform', 'powerful engine', 'data platform engineering', 'zoom video conferencing', 'r  php', 'predictive analytic techniques', 'robotics  computer vision', 'hardware software product', 'machine learning optimization methods', 'custom software', 'visual search', 'modeling tools', 'network data', 'sql  oracle', 'log data', 'search engine optimization', 'bella+canvas  alo yoga  free membership', 'class equipment free yoga classes', 'statistical  machine', 'bayesian algorithms', 'marketplace dynamics', 'computer science knowledge', 'machine learning knowledge', 'enterprise tools', 'analytics methods', 'data instrumentation', 'big data processing tools', 'computing systems', 'sql  excel  visualization tools', 'mathematical statistical techniques', 'meta data', 'audio entertainment', 'dialog management', 'exceptional presentation skills', 'sophisticated analysis', 'data warehouse management', 'deadlines strong interpersonal skills', 'exceptional research skills', 'data analytic  statistical  algorithmic expertise', 'experiment analysis', 'data visualization ability', 'sleek design', 'mumps', 'analytic structure', 'analytical query', 'experimental design  predictive modeling', 'tableau r python knowledge', 'telemetry messaging', 'design tableau', 'service analytics', 'visualization applications', 'advanced statistical machine learning techniques', 'quantitative reasoning interpretation skills', 'strong data exploration manipulation skills', 'complexity analysis', 'computer architecture', 'mobile application', 'team analytics', 'datacenter', 'analytics processes', 'natural language processing ability', 'digital crm marketing', 'media optimization', 'rapp', 'combo kit', 'intel labs', 'analytics software development processes', 'coding artificial intelligence methods', 'analytic  statistical  algorithmic expertise', 'data  ability', 'exemplary communication skills', 'etl applications', 'system applications', 'data analytic methods', 'predictive modeling techniques', 'professional technical knowledge', 'computer science  mathematics', 'sas statistical software', 'complex sql queries ability', 'customer marketing analytics practitioner', 'software engineering excellence', 'error analysis', 'data modeling concepts', 'coding expertise', 'diabetes management products', 'python ecosystem', 'strong engineering', 'centos', 'hackerrank developer skills platform', 'mysql  postgres', 'modeling techniques', 'chegg math  chegg', 'data mining skills', 'design engineers', 'workflow development', 'agile software', 'plain language', 'processing techniques', 'r  spss', 'malware analysis', 'design  development  implementation experience', 'visual display', 'excellent communication  presentation', 'strong communication collaboration skills', 'disk', 'conferencing', 'video processing', 'munge', 'analytics infrastructure', 'r excellent communication presentation skills', 'scripting tools', 'data modeling strategies', 'predictive analytic tools', 'software data engineer', 'sql tableau', 'vr', 'economics  computer science', 'one machine learning', 'java  c', 'solid software development skills', 'ipsec', 'data management tasks', 'descriptive analytics', 'bi data visualization tools', 'dod logistics', 'simulation analysis', 'oracle  sap', 'r python proficiency', 'dimensional modeling experience', 'javascript  java', 'business intelligence analytics tools', 'scalable analytics', 'marketing optimization', 'hardware architecture', 'grid dynamics', 'solid communication skills', 'local data warehouse', 'user interface design', 'oracle pl', 'soa', 'regression modeling', 'strong interpersonal skills ability', 'data visualization products', 'functional collaboration skills', 'amd', 'clia', 'simulation environment', 'nlp research', 'operations analytics', 'sql programming skills', 'mobile development', 'scalable software', 'automated analytics', 'analytical tool', 'agile iterative development', 'gpt', 'gpt   conversational & cognitive communication technology', 'nlp space', 'stochastic optimization', 'driven analytics', 'sql python skills', 'database infrastructure', 'exl analytics', 'leading analytical tools', 'statistical data mining', 'statistical modeling methods', 'analytics engineering', 'data hygiene', 'inventory optimization', 'business analytics tools', 'computational simulation', 'xml  hadoop', 'bayesian reasoning', 'compiler', 'proteomic bioinformatics', 'modeling solutions', 'multimedia', 'data maintenance', 'data optimization', 'game design', 'constant communication', 'activision', 'lab space', 'solid expertise', 'speech analytics', 'extensive technical expertise', 'product engineering', 'german engineering', 'vehicle electronics expertise', 'škoda', 'strong mathematical skills', 'c++  cuda', 'agile software development methodology', 'product suite', 'excellent analytical capabilities', 'integrated systems', 'excellent writing skills team', 'network data analytics', 'hadoop mapreduce', 'deep learning expertise', 'systems technology', 'teradata  oracle', 'data access tools', 'nonparametric bayesian modeling', 'analytics toolkit', 'computing environment', 'storage systems', 'software engineering proficiency', 'statistical language', 'statistical processes', 'automated interactive dashboards', 'statistical analysis  regression', 'sas macros', 'dynamic systems', 'integrated suite', 'big data  machine learning', 'prescient design', 'computational biology  physics', 'analytical manipulation', 'jcl', 'nvidia technology', 'strong data visualization', 'technical management', 'analytics expert', 'nlp applications', 'statistical predictive modeling techniques', 'advanced analytics methods', 'statistical modeling experience', 'adobe omniture', 'statistical programming language', 'artificial intelligence machine learning skills', 'reliable software', 'computing technology', 'graphical display', 'statistical machine learning algorithms', 'strong data skills', 'electrical engineering  robotics', 'clv modeling', 'unreal engine', 'bb software', 'standard development tools', 'processing tools', 'funnel optimization', 'machine learning insights', 'bayesian analysis', 'analytical interpersonal skills', 'machine intelligence machine learning applications', 'computer security', 'custom analysis', 'versioning', 'statistical  algorithmic  mining visualization techniques', 'c  c++', 'nlp technologies', 'audio files', 'algorithmic development', 'seamless integration', 'language modeling', 'hard soft skills', 'workflow solutions', 'marketing automation tools', 'sas sql', 'statistical programming experience', 'salesforce administrator', 'data warehouse engineers', 'sas software', 'sas language', 'advanced data mining techniques', 'simulation tools', 'gans', 'database marketing', 'teradata  hadoop', 'containerized environment', 'cube development', 'data management issues ability', 'data vault modeling methodology', 'data warehouse strategies', 'data warehousing leadership', 'datawarehouse design', 'dimensional design', 'etl engineers', 'manual applications', 'software enhancements', 'sql development  optimization performance tuning experience', 'technical expertise intellectual curiosity', 'analytical visualization tools', 'udfs analytics applications', 'cloud systems', 'openstack', 'python programmer', 'core analytics', 'automated monitoring', 'webex', 'modeler', 'fiber optics', 'statistics skills', 'prototype software', 'query software', 'ticketing systems', 'centralized data warehouse', 'database applications', 'data processing analytical pipelines', 'nosql data warehouse solutions', 'pyspark programming', 'sql applications', 'internal analytics', 'cloud computing environments', 'visual perception', 'analytics environment', 'java development', 'cloud ecosystem', 'rhel', 'statistical  machine learning', 'data visualization dashboard tools', 'statistics packages', 'debugging  documentation', 'workflow processes', 'data warehousing architecture', 'eur', 'system lifecycle', 'data science machine learning teams', 'data warehousing tools', 'scala  java', 'clojure', 'parametric', 'latest mobile digital tools', 'mobile digital ecosystem', 'demonstrated project management skills', 'graphical user interface based programs', 'advanced analytics  machine learning', 'frameworks excellent communication skills', 'deep learning knowledge', 'big data tools hadoop', 'sql aws ‘big data’ technologies', 'graphics  visualization technologies', 'credential management', 'powerpoint  project', 'data analytics solution', 'sales management', 'online analytics', 'outstanding technical skills', 'crm ms dynamics', 'lifestyle design', 'ms dynamics implementation team', 'tableau crm', 'timeline management', 'job analysis', 'mobile technology', 'data management software', 'data monitoring tools', 'data visualization presentation skills', 'data verification', 'olathe', 'strong analytical design skills', 'excellent analytic skills', ' c', 'appropriate interpersonal skills', 'epic software', 'management systems', 'shc', 'system optimization', 'coding methods', 'enrollment management', 'written communications', 'math skills', 'operational workflow', 'analytics  mathematics', 'comparative analytics', 'microsoft office products experience', 'mainframe', 'tabular graphical presentations', 'cloud data environments', 'strong prioritization skills', 'plm tool', 'existing data warehouse', 'crouch', 'pricing analytics', 'innovative machine learning techniques', 'nnsa laboratory', 'microsoft environment', 'actuarial analysis', 'business intelligence visualization tools', 'support management', 'marketing data analytics', 'database modeling', 'ingram micro', 'electrical computer engineering', 'churn analysis', 'statistical econometric modeling techniques', 'visual techniques', 'workgroups', 'organizational skills knowledge', 'strong oral communication skills', 'data visualization software tableau', 'data analytics unit', 'one data visualization tools', 'acquisition analytics', 'data modules', 'oral written interpersonal skills', 'word processing software', 'informatica data quality', 'data management strategies', 'acquisition management', 'management oversight', 'product configuration', 'logistics analysis', 'software engineering  mis', 'strong presentation communication skills', 'sql  looker', 'yaml', 'etl elt technologies', 'ec  emr', 'ruby  php', 'specialized technical knowledge', 'reporting data visualization tools', 'excellent communication skills thrives', 'mechanical electrical equipment', 'sensor development', 'data hadoop', 'modeling process', 'analytics design', 'management  technical functional application management', 'package configuration', 'stream data', 'healthcare data analytics', 'statistical modeling languages', 'hadoop ability', 'cd automation', 'scalable machine learning framework', 'quantitative modeling', 'scalable tools', 'machine learning deep learning models', 'statistical libraries', 'journey modeling', 'advanced visualization tools', 'reporting visualization tools', 'hadoop ecosystem hive', 'linux knowledge', 'statistical analysis tool', 'junior analytics', 'etl platform', 'imaging systems', 'apache atlas', 'backend components', 'hardware engineer', 'network effects', 'sql python pandas', 'molecular biology  genomics', 'mysql database', 'modeling experience', 'data engineering  product', 'lawrence livermore', 'digital medicine', 'programming scripts', 'demonstrated analytical skills', 'statistical machine learning solutions', 'data analytics architecture', 'modeling software', 'cognitive systems', 'sql scripting languages', 'new predictive modeling techniques', 'expert programming skills', 'data analytics processes', 'design tool', 'ehr data', 'similar data visualization tool', 'excellent communication  social presentation skills', 'eecs', 'statistics  business analytics', 'apple arcade', 'software development background', 'bayesian techniques', 'practical machine learning experience', 'excellent business communication skills', 'computing cluster', 'software technologies', 'care management', 'microsoft office tools', 'relational sql databases', 'css  html', 'tableau developer', 'advanced computer skills', 'strong excel knowledge', 'product analytics experience', 'microsoft office products word', 'xml files', 'teradata sql', 'bi visualization tools', 'sql oracle', 'data development tools', 'gis analysis', 'specification documentation', 'billing systems', 'automated etl processes', 'msa', 'dimensional data modeling', 'project management concepts', 'enterprise marketing', 'sql relational database', 'design control', 'crm tool', 'custom analytics', 'sql programming experience', 'desktop applications', 'automation ability', 'external communications', 'engineering  computer science', 'sap business warehouse', 'centralized data warehouses', 'ms office  sharepoint', 'project design delivery design', 'strong technical skill', 'edge analytics techniques', 'advanced analytics data science team', 'computing skills', 'linux  bitbucket', 'r  machine learning frameworks', 'related analytics methodologies', 'scalable computing platform', 'statistical machine learning packages', 'human computer interaction  mathematics', 'human computer interfaces', 'mathematical  machine learning abilities', 'mathematical analysis', 'information visualization', 'national laboratory llnl', \"years' data science experience\", 'algorithms  modeling techniques', 'modeling solutionsprepares', 'predictive modeling skillsexperience', 'analytical skillsexcellent communication skills', 'coding portfolio', 'strong organizational  planning interpersonal skills', 'data engineering etl  software development', 'modeling machine learning projects', 'modeling machine learning results', 'new modeling techniques', 'predictive modeling algorithms', 'sas enterprisuide', 'large  complex datasetstechnical proficiency', 'similar statistical computational environmentsexposure', 'sentiment analytics', 'similar visualization', 'enterprise center', 'data processing pipeline', 'applications software', 'file structure', 'data analytics environment', 'sql serverexperience', 'computer sciencebr', 'requiredstrong communication skills', 'analytic data visualization products', 'computational analysis tools', 'referral management', 'contextual spatial temporal relationships', 'gis arcgis', '• data visualization tableau', 'relational databasesexperience', 'statistical analysis environments', 'ruby  agile methodologies', 'statistical backgroundcandidate', 'statistical modeling  dissemination', 'statistical modeling  dissemination presentation work', 'xpo', 'xpo logistics', 'amp data analytics team', 'sophisticated data analytics professionals', 'statistical modelingexperience', 'analytical  mathematical  technical skills research', 'clustering classification techniques', 'complex statistical predictive modeling concepts', 'sparkr programming', 'ibm spss modeler', 'data warehouse conceptsexperience', 'requestedactively expand consulting skills', 'environmentexcellent communication', 'java  microsoft', 'analytical modeling', \"client's analytics problems\", 'director analytics', 'java spark mllibworking knowledge', 'modeling approach', 'structure analysis', 'kaggle competitionsstrong analytical creative problem', 'organizational needeffective interpersonal skills', 'python code library', 'unstructured data leverage variety', 'c++  pythonexperience', 'deep learningstrong programming skills', 'software infrastructure', 'computer scienceexperience', 'unstructured data leveraging variety', 'abilitystrong programming skillsexperience', 'ecosystemcreate scalable solutions', 'nlp scientist', 'sql mpp databasesexcellent', 'programming r', 'ms office requiredpython', 'written verbal presentation skills', 'pros’ software products', 'statistical mathematical concepts', 'hadoop  map', 'presto  sql server', 'verbal  visual communication skills', 'business analytics master’s degree', 'preferred  computer science  mathematics', 'analytics insightslead', 'strong communication data presentation skills ability', 'signal processing analytics', 'statistical mathematical softwareproven ability', 'algorithmic techniques', 'data modeling solutions', 'mysql  hadoop', 'finance  engineering', 'statistical predictive modeling concepts', 'machine learning algorithmsexperience', 'algorithm solutions', 'datamanage data quality feedback loop', 'identifying modeling', 'analytic prototyping', 'sql  command', 'plusmachine learning knowledge', 'prior software development experience', 'analytics  design', 'written  verbal  visual communication skills', 'similar visual analysis tool', 'multivariable calculus', 'nlg', 'sql nosql database platformsability', 'optimal modeling approach', 'hadoop environment', 'analysis  forecasting optimization methods', 'user behavioral modeling', 'sql serverexpert', 'cloud computing technology', 'predictive modeling  natural language', 'problemsanalytical thinking skills', 'machine learning techniquesexperience', 'analytics fieldexperience', 'cs  physics', 'data management methodsbr', 'realtime analytics development', 'data data', 'skillsexcellent written verbal communication skills', 'analytical statistical tools', 'sql development experience', 'predictive modeling solutions', 'mapreduce  hadoop', 'modeling skills', 'amp modeling techniques', 'advanced analytics capability', 'data analytical methods', 'physics  computer information science engineering    years', 'presentation data visualizations', 'analysis  intelligence disseminationdesign', 'incrementalityapply design', 'functional teamseffective communication skills', 'network modeling tools', 'network optimization techniques', 'scenario modeling capabilities', 'senior management   ability', 'database design administration experience', 'mathematics  management science', 'verbal communications', 'advanced statistical techniques regression', 'microsoft office applicationsexcellent', 'metis data science instructional team', 'analysis packages', 'spreadsheet  presentation creation tools', 'oracle discoverer', 'advanced powerpoint skills', 'analytical  mathematical technical skills', 'predictive modeling expertise', 'sql skillsexperience', 'data search quality', 'mathematics  \"machine learning', 'statistical engineering methods', 'statistics machine learning', 'simulation modeling', 'cesr', 'client communications', 'melding analytics', 'norc', 'statistical quantitative modeling', 'analytic modeling', 'measurement  analysis knowledge management', 'available data demonstrated skills', \"sql   doctorate's degree\", 'meta', 'petcare data ecosystem', 'data visualization presentation tools', 'machine learning modelsexperience', 'data visualization tableau', 'digital marketing ecosystem', 'automation  generalization', 'warehouse architecture', 'statistical analysis techniquesability', 'statistical analysisexperience', 'demonstrated analytical ability', 'google analytics  adobe analytics  test', 'interactive marketing', 'linux environmentability', 'enhanced analytics', 'analytics methodology', 'research analysisstrong analytical skills', 'java  javascript', 'analytics programming', 'analytics software solutions', 'needham', 'nielsen associates', 'nielsen’s modeling analytics platforms', 'software engineering department', 'amp tools', 'followingcommon nlp techniques', 'nlp ml solutions', 'pre processing tokenization', 'quantitative machine learning techniques', 'statistical modeling experienceexperience', 'independentlyexcellent verbal written communication skills', 'advanced analytics machine learning model development', 'expert coding skills', 'excellent statistical skills', 'frequentist bayesian methodologies', 'supervised unsupervised learning techniques', 'statistical methodsability', 'docker  tableau', 'statistical simulation modelsexperience', 'analytics system', 'cloud machine learning', 'modellingstrong etl programming skills', 'data advanced understanding', 'statistics optimization techniques', 'data summarization', 'advanced analytics concepts', 'scripting language php', 'scala  sqlexperience', 'software engineering architecture  software engineering lifecycle', 'software engineering techniques', 'clarivate analytics clients', 'amp hadoop', 'technical  professional skills', 'iot analytics  container persistence', 'mapr ecosystem', 'data frames', 'new technical soft skills', 'relational sql nosql databasesexperience', 'statistical modeling  machine learning  data mining concepts', 'coding python', 'ability excellent communication  relationship skills', 'challenge  adobe', 'machine learning productsexperience', 'data  sensors', 'statistical methodsexperience', 'bibliometric analysis tool', 'data architectures knowledge', 'analytics center', 'digitas data science practice', 'statistical  analytical computing techniques', 'amp mapreduce', 'data mining optimization techniquesstrong knowledge', 'json payload', 'mindsetclear communicationtechnical fluency', 'digital innovation lab', 'ggplot  tableau qlinkview', 'sql querying', 'econometric models', 'data modeling processesexperience', 'database analytical technologies', 'software  spss', 'analysis tool', 'data analytics consultants', 'advanced analyticscoding skills', 'hadoop cloudera', 'oral communication skills', 'data science machine learning applicationsexperience', 'ms azureexperience', 'statistical data analysis  experimental design', 'data visualization toolsbr', 'data visualization toolsexperience', 'software system development', 'xml  json', 'complex data analytics', 'new machine learning', 'summary  boxy charm', 'budget superior communication skills', 'amp development', 'etl data integration', '#analytics', 'datastrong written verbal communication skills', 'cs  computer engineering', 'cs  computer engineering  systems', 'amp analysis', 'data mining machine learning techniques', 'java  scala', 'art machine learning approacheswork', 'modeling standards', 'predictive modeling tools', 'api functionalityexperience', 'similar analytics concentration', 'bayesian frequentist methodologies    mastery', 'software engineering architecture', 'statistical methods skills distributions  experimental design', 'statistical software  scripting languages', 'amp analytics solutions', 'big data machine learning', 'nlp computer visionpush boundaries', 'data modeling initiatives', 'strongly preferredadvanced skills', 'multivariate  machine learning', 'preferredexcellent written verbal communication skills', 'data modeling pipelines', 'modern analytical modeling techniques', ' tableau', 'advanced analytics activities', 'analytical computational approaches', 'advanced data engineering approach', 'business  strong communication influence skills', 'c plex', 'complex optimization techniques', 'predictive analytics machine learning image analysis', 'scalable analytical solutions', 'scalable analytical “solutions', 'innovation technology expertise', 'software prototyping', 'challengesdemonstrated strong collaboration skills', 'data processing design fit', 'quantitative data science discipline', 'analytical data visualization tools', 'agile software development environmentexperience', 'alm tools', 'analytics data visualization tools', 'excellent organizational  interpersonal  communication skillsability', 'statistical modelsexperience', 'customer behavioral analytics', 'c++  java  javascript  etc experience querying databases', 'traditional data warehousing concepts', 'robust software machine learning design', 'data visualization dashboard creation', 'solutionspredictive modeling', 'visual analytic tools', 'superior data visualization storytelling skills', 'advanced modeling techniqueability', 'latest machine learning technology services', 'software development frameworkscapture customer requirements', 'altair productdesign', 'human machine creativity', 'proprietary simulation optimization technologies', 'math  econometrics', 'mis  computer science', 'personal communication', 'statistical computing language', 'google machine learning', 'stochastic modeling', 'data processing pipelineexcellent problem', 'database systems mysql', 'oracle  netezza', 'datastrong written oral communication skills', 'leveraging analytics', 'shell scripting tools', 'r strong communication skills', 'linux environmentexperience', 'modern software development techniques', 'latest advanced analytics', 'scala  c', 'plusgreat communication skills', 'hadoop architecture', 'emerging analytics', 'characteristicsbr technical expertisebr', 'predictive analytics applications', 'advanced software engineering', 'statistics  optimization machine learning methodologies', 'cs  computer engineering  mathematics', 'data engineering hadoop', 'source analysis', 'electronic communication', 'advanced analytics technologies', 'strong technical writing skills', 'analytics productsdesign', 'aws  emr', 'data engineering standardsanalyze', 'additional modeling techniques', 'data structures  algorithms experience', 'data  analytics  software development solutions', 'excellent communication  presentation negotiation skills', 'effective data visualization skills', 'industry analysis', 'image analysis machine learning systems', 'mobile environment', 'exceptional coding skills', 'citrix', 'plusworld class communication skills', 'etl processesexperience', 'cib analytics', 'machine learning apis computational packages', 'etl data pipeline developmentbr', 'software engineer rolemaster', 'intelligent machine learning engineer', 'javascript  matlab', 'amp presentation materials', 'unix expertise', 'data visuals', 'ms windows', 'excel powerpoint desiredprior participation', 'quantitative analysis tools', 'verbal  written computer communication skills', 'data mininggood communication skills', 'blackbaud crm', 'file data', 'capgemini  description', 'preferredsuperior verbal written communication skills', 'text  audio  modalities fluency', 'marketing flyerswork', 'analysis methodsknowledge', 'analysis processesdirect', 'geospatial datayou', 'toole design', 'data management activities', 'database maintenance', 'verbal written communication skills ability', 'ms office skills', 'data management role', 'compas', 'data logistics', 'solid technical knowledge', 'programming xml  javascript', 'marketing automation platform', 'web analytics tools adobe analytics', 'microsoft office suiteknowledge', 'better management', 'well‑developed writing skills', 'sql environment', 'cognos  ssrs', 'etl methods', 'adaptive approachstrong writing presentation skills', 'additional analytics skillssolid understanding', 'sql   stellar communication', 'digital display', 'quick learning', 'contexteffective presentation', 'design  development  validation', 'good communication skillsyou', 'behavioral transactional analytics tools', 'channelsprovide analysis', 'sql requiredability', 'tableau adobe data workbench preferredexperience', 'data warehouse concepts experience', 'java software development', 'teradata database', 'algorithms data manipulation capabilities', 'bayesian conjoint analysisknowledge', 'sql   oracle', 'sql mysql', 'datastrong communication skills', 'kris', 'host analytics', 'actuarial  analytics', 'analysis resultsbr', 'ms preferredbr', 'digital screen', 'sql tools', 'sql  br', 'relational database conceptsexperience', 'sqladvanced excel', 'computer systems analysis', 'mode communications', 'analysts  management', 'data quality analytics abilityability', 'relational database conceptspl', 'sql sql query optimizationba bs degree', 'data modeling language dml  data definition language ddlstrong communication skills', 'iterative mockupshigh proficiency', 'unified modeling language uml', 'grp measurement analytics', 'hierarchical modeling', 'mysql  sybase  postgres fluency', 'present analytics', 'data mapping documentation', 'integrated data warehouse', 'data developers', 'data warehouse specialist', 'relational databasesupport', 'sap bw', 'data analytics  software engineering', 'loe', 'preferencestrong analytical skills', 'sql server experience development', 'data management application enhancements', 'data management application support experience', 'analytics vision', 'data programming skills', 'software   winnonlin', 'strong collaborative skills  team player mentality advanced statistical analysis data mining software', 'data manipulation visualization tools', 'infographic design', 'modeling  analytics platforms', 'predictive analytics methodologies', 'programming java', 'computer science mathematics', 'data model design philosophies', 'mis  computer science  mathematics', 'data lifecycle methodologies', 'multiple prioritiesstrong communication presentation skills', 'software engineering techniques  software engineering architecture', 'data redundancy', 'data machine learning experts', 'advanced cyber securitygreat interpersonal skills', 'patch management validationidentify', 'perl  etc demonstrate knowledge', 'vulnerability management functionsunderstanding', 'vulnerability scanning tools qualys', 'api integration', 'interpersonal communication skillsability', 'management directionknowledge', 'data warehouse space', 'olap technologies', 'deadlinesstrong analytical intuition', 'cloudera hadoop', 'managementexcellent interpersonal skills', 'data management space', 'marketing teamsproven ability', 'digital marketing strategies', '[vp marketing analyticsbr', 'strong analytics functions', 'vp marketing analytics', 'extensive analytics capabilities', 'information systems environmentexcellent communication', 'deliverydrive analytics innovation', 'ou analytics', 'reductionexcellent communication skills', 'agile software developmentpossession', 'etl functions', 'sql databasesexperience', 'effective communications   extensive experience', 'overall workflow', 'tools techniques ability', 'applications software   passion', 'data structures humility', 'preferred etl tools techniques performance tune', 'scrum   agile methodology interact', 'software development algorithms', 'denodo software products', \"denodo's data virtualization capability\", 'high technical expertise', 'accenture digital   qualifications', 'hadoop solutions', 'nosql graphdb ecosystem', 'relational data warehousing models', 'spark data processing', 'strong technical aptitude cloud', 'mongodbdata modeling tools', 'relational sqlexperience', 'underlying data warehouse', 'etl development collaborate', 'informatica  ssrs', 'data warehouse environmentexperience', 'hue  etl', 'data programming concepts', 'unix system', 'abilitygreat presentation skillsgreat', 'core data warehousing tools', 'filesystem', 'conclusions communication', 'etl batch processing', 'tuning etl solutions', 'mysql  mongodb', 'ibm tivoli', 'scripting languagesunix', 'sql server  ssrs', 'improvement strong analytic skills', 'android device', 'data &amp analytics practice area', 'etl   data integration tools ssis', 'jvm language', 'azuredata analytics services', 'data engineering  ingestion curation functions', 'leadclient design workshops', 'nosql clusterson', 'r  etl tools', 'data ingress', 'visualization systems', 'data management culture', 'deep sql development skills knowledge', 'dimensional database design experience', 'api microservicesgood', 'jee data management experience', 'advanced software development experience', 'analytical data warehouse solutions', 'disorganized data', 'cloud software design', 'fast data machine learning solutions', 'machine learning cml', 'cots tools', 'rdbms design', 'visualization engineering', 'rdbms design  data', 'analysis  architecture', 'rdbms data stores', 'kraus', 'software developer role', 'data analysis   software   extensive experience', 'rdds data frames emphasis', 'design  prototyping', 'premise data warehouse', 'sql datawarehouse', 'sql server  ssis', 'ssas tabular', 'nosql hbase', 'agile software processes', 'data processing frameworksexperience', 'sql relational database oracle', 'statistical modeling methods experience', 'ingest tool development', 'languagesstrong hadoop skills', 'scalagood coding skills', 'data processing pipelineswork', '# analytics project', 'idc', 'client design workshops', 'unstructured data environmentsat', 'agile engineering', 'agile engineering experience', 'cloud data capabilities', 'hadoop modules', 'sql postgresql', 'digital engineering excellence', 'advanced analytics machine learning concepts', 'analytics architectures', 'machine learning applicationsassist', 'nosql implementations', 'dataflow  etcexpert', 'etl program', 'hadoop ecosystem hadoop', 'distributed computing principlesmanagement', 'analyticsdata management', 'data management domain', 'database solutionsbr', 'good teamwork skills', 'clear visual communication', 'scrum development methodologies', 'columnar data warehouse technologies', 'columnar data warehouses', 'data engineer ability', 'oral communication  presentation skills bs', 'hadoop ecosystem map', 'hadoop distribution', 'mapreduce apache sparkfamiliarity', 'nosql datastoresexperience', 'scalestrong analytical skills', 'hadoop ecosystemexperience', 'data analytics toolsknowledge', 'predictive analytics cspa', 'management preferredpossession', 'data engineering teamsmanage', 'software engineering related field graduate degree', 'analytics data store', 'data processing patterns', 'hadoop  sparkexperience', 'continuous improvement', 'data analytics', 'data management', 'information systems', 'information technology systems', 'presentation', 'management', 'modelling techniques', 'data analytics', 'postgresql', 'predictive analytics solutions', 'strong data analysis skills', 'strong technical skills', 'advanced excel skills', 'analysis', 'business analytics', 'strong analytical skills', 'excel', 'excellent communication skills', 'python', 'sql', 'statistical background', 'design experience', 'oracle', 'system testing', 'vba', 'database management', 'agile development approach', 'automation', 'aws environment', 'azure data factory', 'azure databricks', 'azure services', 'c', 'data warehouse', 'etl tools', 'mobile applications', 'saas', 'scala', 'agile methodology', 'business analysis', 'research', 'scrum', 'software development', 'strong interpersonal skills', 'software design', 'solution design', 'sharepoint', 'big data knowledge', 'machine learning', 'presentation skills', 'strong coding skills', 'strong communication', 'strong quantitative analytical skills', 'writing skills', 'strong communication skills', 'analytics', 'data visualisation', 'excellent analytical skills', 'excellent interpersonal communication skills', 'https', 'maths', 'microsoft office products', 'strong delivery skills', 'data analysis', 'payroll', 'alteryx', 'change management', 'coding skills', 'marketing', 'ms excel', 'ms powerpoint', 'tableau', 'visualization skills', 'data warehouses', 'business intelligence software', 'mathematics', 'network', 'power bi ability', 'analytical ability', 'complex data analysis', 'excellent written communication skills', 'analytical expertise', 'digital health', 'product development', 'data security', 'data solutions', 'tsql', 'excellent communication presentation skills', 'ms office', 'conflict resolution', 'project management', 'system design', 'system maintenance', 'workday', 'automated tools', 'hardware', 'software applications', 'systems experience', 'unix', 'windows', 'combined data warehouse', 'etl', 'powerbi', 'scripting', 'ssis packages', 'ssrs', 'support maintenance', 'advanced analytics', 'statistics', 'strong interpersonal communication skills', 'information security', 'sas', 'statistical models', 'statistical tools', 'sap', 'big data', 'minitab', 'visio', 'business intelligence', 'microsoft sql server', 'customer service', 'perl', 'powershell', 'xml', 'digital marketing', 'google suite', 'process mapping', 'data science', 'google analytics', 'troubleshooting', 'ai', 'ux', 'pmp', 'six sigma', 'r', 'accounting', 'compliance management', 'elasticsearch', 'java', 'javascript', 'spark', 'power bi', 'molecular biology', 'ci', 'git', 'kubernetes', 'docker', 'jenkins', 'aws', 'leadership experience', 'natural language processing', 'tensorflow', 'predictive analytics', 'survey design', 'attribution modeling', 'data mining', 'hadoop', 'matlab', 'operations research', 'hubspot', 'cassandra', 'clinical trials', 'azure', 'android', 'ios', 'rest', 'project leadership', 'stata', 'biostatistics', 'bioinformatics', 'clinical research', 'epidemiology', 'jira', 'c#', 'mongodb', 'mysql', 'cloud computing', 'design patterns', 'kafka', 'management experience', 'cybersecurity', 'ruby', 'image processing', 'process improvement', 'cyber security', 'quality management', 'qlikview', 'tfs', 'regulatory reporting', 'active directory', 'microsoft office', 'tcp', 'time management', 'technical support', 'vmware', 'google cloud platform', 'sox', 'strategic planning', 'genetics', 'program management', 'performance marketing', 'hive', 'linux', 'quality control', 'statistical software', 'experimental design', 'gis', 'quantitative analysis', 'ui', 'web development', 'computer graphics', 'maya', 'signal processing', 'medical insurance', 'spss', 'obiee', 'microsoft access', 'svn', 'seo', 'sales experience', 'product demos', 'php', 'confluence', 'erp systems', 'microsoft word', 'audits', 'lms', 'process management', 'crystal reports', 'business management', 'cpa', 'datawarehouse', 'visual studio', 'teradata', 'business  management', 'marketing automation', 'marketo', 'eclipse', 'apache', 'salesforce crm', 'iis', 'microsoft powerpoint', 'sdlc', 'json', 'lean', 'data  analysis', 'email marketing', 'application support', 'ifrs', 'analysis skills', 'chef', 'splunk', 'quantitative research', 'work day', 'database administration', 'go', 'arcgis', 'software testing', 'internal audits', 'kanban', 'google search console', 'cdisc standards', 'medical terminology', 'cad', 'customer segmentation', 'agriculture', 'calibration', 'qualitative research', 'fortran', 'ajax', 'selenium', 'pci', 'medical imaging', 'spring', 'project planning', 'paas', 'jd edwards', 'microsoft power point', 'new relic', 'rust', 'unity', 'akka', 'react', ' ai', 'dynamodb', 'oop', 'pig', 'css', 'graphql', 'ubuntu', 'next generation sequencing', 'informatica', 'ssh', 'tensor flow', 'transportation management', 'calculus', 'hbase', 'test automation', 'lua', 'postgis', 'bigdata', 'haskell', 'ids', 'survival analysis', 'nosql', 'weka', 'network security', 'management consulting', 'unit testing', 'macos', 'ftp', 'pentaho', 'network infrastructure', 'omniture', 'hyperion', 'dns', 'share point', 'project management methodology', 'financial accounting', 'java script', 'content management systems', 'nist', 'cism', 'sparql', 'xslt', 'salesforce marketing cloud', 'peoplesoft', 'financial modeling', 'network engineering', 'puppet', 'redis', 'iaas', 'mesos', 'perforce', 'dhcp', 'cissp', 'ldap', 'public relations', 'six sigma certification', 'cerner', 'martech', 'microsoft project', 'military experience', 'oracle ebs', 'medical coding', 'system administration', 'elastic search', 'qualtrics', 'sailpoint', 'shell scripting', 'hibernate', 'soap', 'adas', 'zookeeper', 'bgp', 'firewall', 'technical writing', 'nfs', 'lucene', 'solr', 'mpls', 'fips', 'project implementation', 'fedramp', 'technical project management', 'filemaker', 'marketing mix modeling', 'juniper', 'r ', 'managed care', 'centos', 'epic certification', 'malware analysis', 'ipsec', 'heroku', 'swift', 'database marketing', 'openstack', 'ant', 'clojure', 'bio statistics', 'tomcat', 'pardot', 'invision', 'epic', 'ceh', 'gaap', 'sentiment analytics', 'ssl', ' tableau', 'designexperience', 'angular', 'intelligence communityexperience', 'open stack', 'h base']\n"
          ]
        }
      ]
    },
    {
      "cell_type": "markdown",
      "metadata": {
        "id": "2fP0fsHzpa3p"
      },
      "source": [
        "\n",
        "\n",
        "```\n",
        "# This is formatted as code\n",
        "```\n",
        "\n",
        "# Make a dataframe of Job postings & skills"
      ]
    },
    {
      "cell_type": "markdown",
      "metadata": {
        "id": "Kp0p_IKMq2RS"
      },
      "source": [
        "['Job_Title', 'Link', 'Queried_Salary', 'Job_Type', 'Skill', 'No_of_Skills', 'Company', No_of_Reviews', 'No_of_Stars', 'Date_Since_Posted', 'Description', 'Location', ‘Company_Revenue', 'Company_Employees', 'Company_Industry']"
      ]
    },
    {
      "cell_type": "code",
      "metadata": {
        "id": "Kg0y7Wagu10y"
      },
      "source": [
        "word_occurance_over2 = pd.read_csv(\"word_occurance_above2_2021-10-19.csv\")"
      ],
      "execution_count": null,
      "outputs": []
    },
    {
      "cell_type": "code",
      "metadata": {
        "id": "_58PeTZdxBT6"
      },
      "source": [
        "# read in skills file\n",
        "skills = pd.read_csv(\"skills_2021-10-19.csv\")\n",
        "skills.head(10)\n",
        "skills = skills.rename({\"0\":\"Skills\"}, axis = \"columns\")\n",
        "\n",
        "unique_skills = pd.DataFrame(skills.loc[:,\"Skills\"].unique())\n",
        "# read in all nouns file\n",
        "unique_skills[0:20]\n",
        "unique_skills = unique_skills.rename({0:\"Skills\"}, axis = \"columns\")\n",
        "\n",
        "temp = word_occurance_over2.rename({\"Unnamed: 0\":\"Skills\", \"Noun\":\"Count\"}, axis = \"columns\")\n",
        "skills_with_counts = unique_skills.merge(temp, on=\"Skills\")\n",
        "skills_with_counts\n",
        "# capabilities --> ability\n",
        "# techniques --> skills\n",
        "\n",
        "# check long ones specifically\n",
        "skills_with_counts.to_csv(\"skills_with_counts_21-10-19.csv\")"
      ],
      "execution_count": null,
      "outputs": []
    },
    {
      "cell_type": "code",
      "metadata": {
        "id": "82VJjXRsPzgq"
      },
      "source": [
        "tidy_skills_with_counts = np.empty([len(skills_with_counts)], dtype='U256')\n",
        "\n",
        "for i in range(0, skills_with_counts.shape[0]):\n",
        "  temp = re.sub(\"^#\", \"\", unique_skills.loc[i, \"Skills\"])\n",
        "  temp = re.sub(\"^aa\",\"\",temp)\n",
        "  temp = re.sub(\"br$\", \"\", temp)\n",
        "  #temp = re.sub(\"^l$\",\"\",temp)\n",
        "  temp = temp.replace(\"[\", \"\").replace(\"•\", \"\").replace(\"š\",\"s\").replace(\"excellent\", \"\").replace(\"strong\", \"\").replace(\"exceptional\", \"\").replace(\"exemplary\",\"\").replace(\"expert\", \"\").replace(\"extensive\", \"\").replace(\"good\",\"\").replace(\"great\",\"\").replace(\"latest\",\"\").replace(\"scalable\", \"\").replace(\"similar\",\"\").replace(\"solid\",\"\").replace(\"sophisticated\",\"\").replace(\"specialized\",\"\").replace(\"standard\", \"\").replace(\"superb\", \"\").replace(\"superior\", \"\").replace(\"technical\", \"\").replace(\"preferred\", \"\").replace(\"plus\", \"\").replace(\"advanced\",\"\").strip()\n",
        "  tidy_skills_with_counts[i] = temp.replace(\"   \", \" \").replace(\"  \", \" \").replace(\"analytical \", \"analytics \").replace(\"analytic \", \"analytics \").replace(\"methodology\", \"methodologies\").replace(\"experience\", \"\").replace(\"new\", \"\").replace(\"ability\", \"\").replace(\"proven\", \"\").replace(\"capabilities\", \"\").replace(\"capability\", \"\").replace(\"abilities\", \"\").replace(\"ability\", \"\").replace(\"aaai\", \"artificial intelligence\").strip()\n",
        "  #.replace(\"ai \", \"artificial intelligence\").replace(\"ml \", \"machine learning\").replace(\"bi \", 'business intelligence')\n",
        "\n",
        "tidy_skills_with_counts = pd.DataFrame(np.unique(tidy_skills_with_counts))\n",
        "tidy_skills_with_counts = tidy_skills_with_counts.rename({0:\"Skills\"}, axis = \"columns\")\n",
        "tidy_skills_with_counts.to_csv(\"tidy_skills_with_counts_2021-10-19_v2.csv\")"
      ],
      "execution_count": null,
      "outputs": []
    },
    {
      "cell_type": "code",
      "metadata": {
        "colab": {
          "base_uri": "https://localhost:8080/"
        },
        "id": "2NTLrBD0vp62",
        "outputId": "13f2007e-99c3-43b2-de36-5fc7a5dc29bb"
      },
      "source": [
        "tidy_skills_with_counts = tidy_skills_with_counts.merge(skills_with_counts, on=\"Skills\", how='left')\n",
        "print(tidy_skills_with_counts)\n",
        "\n",
        "#tidy_skills_with_counts.insert(2, 'Length', 0)\n",
        "for i in range(0, tidy_skills_with_counts.shape[0]):\n",
        "  tidy_skills_with_counts.loc[i, 'Length'] = len(tidy_skills_with_counts.loc[i, \"Skills\"].split(' '))\n",
        "  if len(tidy_skills_with_counts.loc[i, \"Skills\"]) == 0:\n",
        "    tidy_skills_with_counts.loc[i, \"Skills\"] = \"NaN\"\n"
      ],
      "execution_count": null,
      "outputs": [
        {
          "output_type": "stream",
          "name": "stdout",
          "text": [
            "                                Skills  Count\n",
            "0                                         NaN\n",
            "1     accenture digital qualifications    NaN\n",
            "2                    access management    7.0\n",
            "3                   account management   19.0\n",
            "4                           accounting  103.0\n",
            "...                                ...    ...\n",
            "3664               years' data science    NaN\n",
            "3665                  yield management    4.0\n",
            "3666                               zfs    3.0\n",
            "3667                         zookeeper    6.0\n",
            "3668           zoom video conferencing    5.0\n",
            "\n",
            "[3669 rows x 2 columns]\n"
          ]
        }
      ]
    },
    {
      "cell_type": "code",
      "metadata": {
        "id": "w-rSuZh3Qz6M"
      },
      "source": [
        "tidy_skills_with_counts = tidy_skills_with_counts[~tidy_skills_with_counts.Skills.str.contains(\"NaN|^l$\")]\n",
        "tidy_skills_with_counts.reset_index(drop=True, inplace=True)\n",
        "tidy_skills_with_counts.to_csv(\"tidy_skills_with_counts_and_length_21-10-19.csv\")"
      ],
      "execution_count": null,
      "outputs": []
    },
    {
      "cell_type": "code",
      "metadata": {
        "colab": {
          "base_uri": "https://localhost:8080/"
        },
        "id": "jdKemfioWKpO",
        "outputId": "30b28d4d-b1df-46a3-e0fb-5ffe1cc28094"
      },
      "source": [
        "# before doing this, let's do some manual cleaning\n",
        "tidy_skills_with_counts = pd.read_csv(\"tidy_skills_with_counts_and_length+exclusions_21-10-20.csv\")\n",
        "print(tidy_skills_with_counts.shape)\n",
        "tidy_skills_with_counts = tidy_skills_with_counts[~(tidy_skills_with_counts.Exclude == 1)]\n",
        "print(tidy_skills_with_counts.shape)\n",
        "tidy_skills_with_counts.reset_index(inplace=True)"
      ],
      "execution_count": null,
      "outputs": [
        {
          "output_type": "stream",
          "name": "stdout",
          "text": [
            "(3680, 5)\n",
            "(3646, 5)\n"
          ]
        }
      ]
    },
    {
      "cell_type": "code",
      "metadata": {
        "id": "Tj7_nMr34_yt"
      },
      "source": [
        "tidy_skills_with_counts_sorted = tidy_skills_with_counts.sort_values(by=[\"Length\"], ascending = False)\n",
        "tidy_skills_with_counts_sorted = tidy_skills_with_counts_sorted.reset_index()\n",
        "\n",
        "short_skills_it1 = list()\n",
        "for i in range(0, tidy_skills_with_counts_sorted.shape[0]-1):\n",
        "  print(tidy_skills_with_counts_sorted.loc[i, \"Skills\"])\n",
        "  print(len(tidy_skills_with_counts_sorted.loc[i+1:(len(tidy_skills_with_counts)-1), \"Skills\"]))\n",
        "  #matches = tidy_skills_with_counts_sorted.loc[[phrase in tidy_skills_with_counts_sorted.loc[i, \"Skills\"] for phrase in tidy_skills_with_counts_sorted.loc[i+1:len(tidy_skills_with_counts)+1, \"Skills\"].tolist()], \"Skills\"]\n",
        "  #matches = [phrase for phrase in tidy_skills_with_counts_sorted.loc[i, \"Skills\"] if phrase in tidy_skills_with_counts_sorted.loc[i+1:len(tidy_skills_with_counts)+1, \"Skills\"].tolist()]\n",
        "  #matches = [phrase for phrase in tidy_skills_with_counts_sorted.loc[i, \"Skills\"] if phrase in tidy_skills_with_counts_sorted.loc[i+1:len(tidy_skills_with_counts_sorted)+1, \"Skills\"].tolist()]\n",
        "  #pattern = '|'.join(tidy_skills_with_counts_sorted.loc[i+1:len(tidy_skills_with_counts)+1, \"Skills\"])\n",
        "  #print(pattern)\n",
        "  #matches = tidy_skills_with_counts_sorted.loc[[\"Skills\"].str.contains(pattern), \"Skills\"]\n",
        "  matches = [phrase for phrase in tidy_skills_with_counts_sorted.loc[i+1:len(tidy_skills_with_counts_sorted)+1, \"Skills\"] if phrase in tidy_skills_with_counts_sorted.loc[i, \"Skills\"]]\n",
        "  matches = [value for value in matches if value != \"l\"]\n",
        "  print(matches)\n",
        "  if len(matches) == 0:\n",
        "    matches = tidy_skills_with_counts_sorted.loc[i, \"Skills\"].split(\"blah\")\n",
        "  print(matches)\n",
        "  if all([len(x) < 3 for x in matches]):\n",
        "    matches = tidy_skills_with_counts_sorted.loc[i, \"Skills\"].split(\"blah\")\n",
        "  #print(pd.DataFrame(matches).value_counts())\n",
        "  print(matches)\n",
        "  print(len(matches))\n",
        "  print(\"\\n\")\n",
        "  short_skills_it1 = short_skills_it1 + matches\n"
      ],
      "execution_count": null,
      "outputs": []
    },
    {
      "cell_type": "code",
      "metadata": {
        "id": "nFUzIodSTw8j"
      },
      "source": [
        "short_skills_it1 = pd.Series(short_skills_it1).unique()\n",
        "short_skills_it1 = pd.DataFrame(short_skills_it1)\n",
        "\n",
        "short_skills_it1.to_csv(\"short_skills_it1_21-10-20.csv\")"
      ],
      "execution_count": null,
      "outputs": []
    },
    {
      "cell_type": "code",
      "metadata": {
        "id": "yB1E-tNXdGzb"
      },
      "source": [
        "#short_skills_it1.insert(1, \"Length\", 0)\n",
        "short_skills_it1[\"Length\"] = 0\n",
        "short_skills_it1 = short_skills_it1.rename({0:\"Skills\"}, axis = \"columns\")\n",
        "for i in range(0, short_skills_it1.shape[0]):\n",
        "  short_skills_it1.loc[i, 'Length'] = len(short_skills_it1.loc[i, \"Skills\"].split(' '))\n",
        "\n",
        "short_skills_it1 = short_skills_it1.sort_values(by=[\"Length\"], ascending = False)\n",
        "short_skills_it1 = short_skills_it1.reset_index()\n",
        "\n",
        "short_skills_it2 = list()\n",
        "for i in range(0, short_skills_it1.shape[0]-1):\n",
        "  print(short_skills_it1.loc[i, \"Skills\"])\n",
        "  print(len(short_skills_it1.loc[i+1:(len(tidy_skills_with_counts)-1), \"Skills\"]))\n",
        "  #matches = tidy_skills_with_counts_sorted.loc[[phrase in tidy_skills_with_counts_sorted.loc[i, \"Skills\"] for phrase in tidy_skills_with_counts_sorted.loc[i+1:len(tidy_skills_with_counts)+1, \"Skills\"].tolist()], \"Skills\"]\n",
        "  #matches = [phrase for phrase in tidy_skills_with_counts_sorted.loc[i, \"Skills\"] if phrase in tidy_skills_with_counts_sorted.loc[i+1:len(tidy_skills_with_counts)+1, \"Skills\"].tolist()]\n",
        "  #matches = [phrase for phrase in tidy_skills_with_counts_sorted.loc[i, \"Skills\"] if phrase in tidy_skills_with_counts_sorted.loc[i+1:len(tidy_skills_with_counts_sorted)+1, \"Skills\"].tolist()]\n",
        "  #pattern = '|'.join(tidy_skills_with_counts_sorted.loc[i+1:len(tidy_skills_with_counts)+1, \"Skills\"])\n",
        "  #print(pattern)\n",
        "  #matches = tidy_skills_with_counts_sorted.loc[[\"Skills\"].str.contains(pattern), \"Skills\"]\n",
        "  matches = [phrase for phrase in short_skills_it1.loc[i+1:len(short_skills_it1)+1, \"Skills\"] if phrase in short_skills_it1.loc[i, \"Skills\"]]\n",
        "  if len(matches) == 0:\n",
        "    matches = short_skills_it1.loc[i, \"Skills\"].split(\"blah\")\n",
        "  print(matches)\n",
        "  if all([len(x) < 3 for x in matches]):\n",
        "    matches = short_skills_it1.loc[i, \"Skills\"].split(\"blah\")\n",
        "  #print(pd.DataFrame(matches).value_counts())\n",
        "  print(matches)\n",
        "  print(\"\\n\")\n",
        "  short_skills_it2 = short_skills_it2 + matches"
      ],
      "execution_count": null,
      "outputs": []
    },
    {
      "cell_type": "code",
      "metadata": {
        "colab": {
          "base_uri": "https://localhost:8080/"
        },
        "id": "tZg4nhscebh8",
        "outputId": "956b41fb-8ef4-4cfc-febc-b8d4408cda97"
      },
      "source": [
        "print(len(short_skills_it2))\n",
        "short_skills_it2 = pd.Series(short_skills_it2).unique()\n",
        "short_skills_it2 = pd.DataFrame(short_skills_it2)\n",
        "\n",
        "short_skills_it2.to_csv(\"short_skills_it2.csv\")"
      ],
      "execution_count": null,
      "outputs": [
        {
          "output_type": "stream",
          "name": "stdout",
          "text": [
            "2216\n"
          ]
        }
      ]
    },
    {
      "cell_type": "code",
      "metadata": {
        "id": "io7akFIFucEx"
      },
      "source": [
        "all_nouns = pd.read_csv('all_nouns_2021-10-19.csv')\n",
        "df.insert(16,'Extracted_skills','')\n",
        "\n",
        "for i in range(0,df.shape[0]):\n",
        "\n",
        "  nouns_from_job_description = all_nouns.loc[all_nouns[\"Number\"] == i, \"Noun\"]\n",
        "  extracted_skills = nouns_from_job_description.loc[nouns_from_job_description.isin(tidy_skills[\"Skills\"]).values == True]\n",
        "  extracted_skills_unique = extracted_skills.unique()\n",
        "  print(extracted_skills_unique)\n",
        "  df[\"Extracted_skills\"][i] = extracted_skills_unique\n"
      ],
      "execution_count": null,
      "outputs": []
    },
    {
      "cell_type": "code",
      "metadata": {
        "id": "_UbrG-D1GycV"
      },
      "source": [
        "df.tail(10)"
      ],
      "execution_count": null,
      "outputs": []
    },
    {
      "cell_type": "code",
      "metadata": {
        "id": "on-ncMKHJAN-"
      },
      "source": [
        "df.to_csv(\"consolidated_df_with_skills_21-10-19.csv\")"
      ],
      "execution_count": null,
      "outputs": []
    }
  ]
}