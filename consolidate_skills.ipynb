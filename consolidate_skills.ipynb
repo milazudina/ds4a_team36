{
  "nbformat": 4,
  "nbformat_minor": 0,
  "metadata": {
    "colab": {
      "name": "consolidate_skills.ipynb",
      "provenance": [],
      "authorship_tag": "ABX9TyONi6yjlJb9nUUxKXsKpH6r",
      "include_colab_link": true
    },
    "kernelspec": {
      "name": "python3",
      "display_name": "Python 3"
    },
    "language_info": {
      "name": "python"
    }
  },
  "cells": [
    {
      "cell_type": "markdown",
      "metadata": {
        "id": "view-in-github",
        "colab_type": "text"
      },
      "source": [
        "<a href=\"https://colab.research.google.com/github/milazudina/ds4a_team36/blob/main/consolidate_skills.ipynb\" target=\"_parent\"><img src=\"https://colab.research.google.com/assets/colab-badge.svg\" alt=\"Open In Colab\"/></a>"
      ]
    },
    {
      "cell_type": "code",
      "metadata": {
        "id": "-0wxYyfzEzdD"
      },
      "source": [
        "import pandas as pd\n",
        "import re"
      ],
      "execution_count": 63,
      "outputs": []
    },
    {
      "cell_type": "code",
      "metadata": {
        "id": "lZ9E20e2I1i5"
      },
      "source": [
        "df_with_skills = pd.read_csv(\"consolidated_df_with_skills_21-10-19.csv\")"
      ],
      "execution_count": 88,
      "outputs": []
    },
    {
      "cell_type": "code",
      "metadata": {
        "colab": {
          "base_uri": "https://localhost:8080/"
        },
        "id": "UTT5zSasI99M",
        "outputId": "8c30b4c1-f5f0-47b7-f22d-082593e13625"
      },
      "source": [
        "test_in = df_with_skills.loc[2246, \"Extracted_skills\"].replace(\"']\", \"\").replace(\"['\", \"\").replace(\"\\n\", \"\").split(\"' '\")\n",
        "print(test_in)"
      ],
      "execution_count": 106,
      "outputs": [
        {
          "output_type": "stream",
          "name": "stdout",
          "text": [
            "['[\"mvf\\'s data documentation\" \\'postgres', 'python', 'strong sql skills', 'tools tool combinations']\n"
          ]
        }
      ]
    },
    {
      "cell_type": "code",
      "metadata": {
        "id": "70RjjucbO7CJ"
      },
      "source": [
        "temp2 = list()\n",
        "for i in range(0, len(df_with_skills)):\n",
        "\n",
        "  temp = df_with_skills.loc[i,\"Extracted_skills\"].replace(\"']\", \"\").replace(\"['\", \"\").replace(\"\\n\", \"\").split(\"' '\")\n",
        "  temp2 = temp2 + temp\n",
        "  temp2 = list(set(temp2))\n",
        "  #print(temp2)\n",
        "\n",
        "len(temp2)\n",
        "skills_with_length = pd.DataFrame({'Extracted_skill_string':temp2})\n",
        "skills_with_length.insert(1, 'Length', 0)\n",
        "for i in range(0, skills_with_length.shape[0]):\n",
        "  skills_with_length.loc[i, 'Length'] = len(skills_with_length.loc[i, \"Extracted_skill_string\"].split(' '))\n",
        "#  if len(skills_with_length.loc[i, \"Extracted_skill_string\"]) == 0:\n",
        "#    skills_with_length.loc[i, \"Extracted_skill_string\"] = \"NaN\"\n",
        "\n",
        "skills_with_length = skills_with_length.sort_values(by=[\"Length\"], ascending = False)"
      ],
      "execution_count": 90,
      "outputs": []
    },
    {
      "cell_type": "code",
      "metadata": {
        "id": "3UEbKJ3_E6k9"
      },
      "source": [
        "def tidy_up_skills(skill_as_extracted, skills_length_as_extracted):\n",
        "\n",
        "  matches = list()\n",
        "\n",
        "  index = skills_with_length.index[skills_with_length['Extracted_skill_string'] == skill_as_extracted].tolist()\n",
        "  index = index[0]\n",
        "  if index < len(skills_with_length)-2:\n",
        "    x = skills_with_length.loc[index+1:(len(skills_with_length)-1), \"Extracted_skill_string\"]\n",
        "    matches = [phrase for phrase in x if phrase in skill_as_extracted]\n",
        "    matches = [value for value in matches if value != \"l\"]\n",
        "    #print(matches)\n",
        "    if len(matches) == 0:\n",
        "      matches = skills_with_length.loc[index, \"Extracted_skill_string\"].split(\"blah\")\n",
        "    #print(matches)\n",
        "    if all([len(x) < 3 for x in matches]):\n",
        "      matches = skills_with_length.loc[index, \"Extracted_skill_string\"].split(\"blah\")\n",
        "    #print(matches)\n",
        "  \n",
        "  \n",
        "  tidy_skills = list()\n",
        "  for skill_string in matches:\n",
        "    tidy_skill = re.sub(\"products$\", \"\", skill_string)\n",
        "    tidy_skill = re.sub(\"\\bpersonal\", \"interpersonal\", tidy_skill)\n",
        "    tidy_skill = tidy_skill.replace(\"\\n\", \"\").replace(\"[\", \"\").replace(\"•\", \"\").replace(\"š\",\"s\").replace(\"   \", \" \").replace(\"  \", \" \").replace(\"' '\", \" \").replace('\"', '')\n",
        "    # remove the adjectives\n",
        "    tidy_skill = tidy_skill.replace(\"excellent\", \"\").replace(\"strong\", \"\").replace(\"exceptional\", \"\").replace(\"exemplary\",\"\").replace(\"expert\", \"\").replace(\"extensive\", \"\").replace(\"good\",\"\").replace(\"great\",\"\").replace(\"latest\",\"\").replace(\"scalable\", \"\").replace(\"similar\",\"\").replace(\"solid\",\"\").replace(\"sophisticated\",\"\").replace(\"specialized\",\"\").replace(\"standard\", \"\").replace(\"superb\", \"\").replace(\"superior\", \"\").replace(\"technical\", \"\").replace(\"preferred\", \"\").replace(\"plus\", \"\").replace(\"advanced\",\"\").strip()\n",
        "    # remove \"frequent\" words\n",
        "    tidy_skill = tidy_skill.replace(\"demonstrated\", \"\")\n",
        "    tidy_skill = tidy_skill.replace(\"analytical \", \"analytics \").replace(\"analytic \", \"analytics \").replace(\"methodology\", \"methodologies\").replace(\"experience\", \"\").replace(\"new\", \"\").replace(\"ability\", \"\").replace(\"proven\", \"\").replace(\"capabilities\", \"\").replace(\"capability\", \"\").replace(\"abilities\", \"\").replace(\"ability\", \"\").replace(\"aaai\", \"artificial intelligence\").strip()\n",
        "    tidy_skills = tidy_skills + tidy_skill.split(\"blah\")\n",
        "\n",
        "    tidy_skills = list(set(tidy_skills))\n",
        "\n",
        "\n",
        "  return(tidy_skills)\n"
      ],
      "execution_count": 114,
      "outputs": []
    },
    {
      "cell_type": "code",
      "metadata": {
        "id": "CFJnGyFyIxXB"
      },
      "source": [
        "for skill in test_in:\n",
        "  print(skill)\n",
        "  test_out = tidy_up_skills(skill, skills_with_length)\n",
        "  print(\"--\")\n",
        "  print(test_out)\n",
        "  print(\"--\\n\")"
      ],
      "execution_count": null,
      "outputs": []
    },
    {
      "cell_type": "code",
      "metadata": {
        "id": "1B0KdEgLPs6b"
      },
      "source": [
        "#df_with_skills.insert(df_with_skills.shape[1], \"temp1\", \"NaN\")\n",
        "\n",
        "for j in range(0, df_with_skills.shape[0]):\n",
        "  #print(\"\\n\")\n",
        "  skills_as_extracted = df_with_skills.loc[j, \"Extracted_skills\"].replace(\"']\", \"\").replace(\"['\", \"\").replace(\"\\n\", \"\").split(\"' '\")\n",
        "  #print(skills_as_extracted)\n",
        "\n",
        "  skills_out = list()\n",
        "  for skill in skills_as_extracted:\n",
        "    skill_out = tidy_up_skills(skill, skills_with_length)\n",
        "    skills_out = skills_out + skill_out\n",
        "\n",
        "  #print(skills_out)\n",
        "  df_with_skills.loc[j, \"temp1\"] = ''.join(skills_out)"
      ],
      "execution_count": 115,
      "outputs": []
    },
    {
      "cell_type": "code",
      "metadata": {
        "id": "ufqE_zjAiKxb"
      },
      "source": [
        "df_with_skills.to_csv(\"consolidated_df_with_skills_21-10-20.csv\")"
      ],
      "execution_count": null,
      "outputs": []
    }
  ]
}